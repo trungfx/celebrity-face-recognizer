{
 "cells": [
  {
   "cell_type": "code",
   "execution_count": 23,
   "outputs": [
    {
     "ename": "ValueError",
     "evalue": "Confirm that ../data/images_test/CE189/000011.png exists",
     "output_type": "error",
     "traceback": [
      "\u001B[1;31m---------------------------------------------------------------------------\u001B[0m",
      "\u001B[1;31mValueError\u001B[0m                                Traceback (most recent call last)",
      "Cell \u001B[1;32mIn[23], line 3\u001B[0m\n\u001B[0;32m      1\u001B[0m \u001B[38;5;28;01mfrom\u001B[39;00m \u001B[38;5;21;01mdeepface\u001B[39;00m \u001B[38;5;28;01mimport\u001B[39;00m DeepFace\n\u001B[0;32m      2\u001B[0m image_path \u001B[38;5;241m=\u001B[39m \u001B[38;5;124m'\u001B[39m\u001B[38;5;124m../data/images_test/CE189/000011.png\u001B[39m\u001B[38;5;124m'\u001B[39m\n\u001B[1;32m----> 3\u001B[0m results \u001B[38;5;241m=\u001B[39m \u001B[43mDeepFace\u001B[49m\u001B[38;5;241;43m.\u001B[39;49m\u001B[43mextract_faces\u001B[49m\u001B[43m(\u001B[49m\u001B[43mimg_path\u001B[49m\u001B[38;5;241;43m=\u001B[39;49m\u001B[43mimage_path\u001B[49m\u001B[43m,\u001B[49m\u001B[43mtarget_size\u001B[49m\u001B[38;5;241;43m=\u001B[39;49m\u001B[43m(\u001B[49m\u001B[38;5;241;43m224\u001B[39;49m\u001B[43m,\u001B[49m\u001B[38;5;241;43m224\u001B[39;49m\u001B[43m)\u001B[49m\u001B[43m,\u001B[49m\u001B[43m \u001B[49m\u001B[43mdetector_backend\u001B[49m\u001B[38;5;241;43m=\u001B[39;49m\u001B[38;5;124;43m'\u001B[39;49m\u001B[38;5;124;43mretinaface\u001B[39;49m\u001B[38;5;124;43m'\u001B[39;49m\u001B[43m,\u001B[49m\u001B[43m \u001B[49m\u001B[43menforce_detection\u001B[49m\u001B[38;5;241;43m=\u001B[39;49m\u001B[38;5;28;43;01mFalse\u001B[39;49;00m\u001B[43m,\u001B[49m\u001B[43m \u001B[49m\u001B[43malign\u001B[49m\u001B[38;5;241;43m=\u001B[39;49m\u001B[38;5;28;43;01mTrue\u001B[39;49;00m\u001B[43m)\u001B[49m\n",
      "File \u001B[1;32mD:\\Applications\\Scoop\\apps\\anaconda3\\current\\envs\\dm-py39\\lib\\site-packages\\deepface\\DeepFace.py:787\u001B[0m, in \u001B[0;36mextract_faces\u001B[1;34m(img_path, target_size, detector_backend, enforce_detection, align, grayscale)\u001B[0m\n\u001B[0;32m    757\u001B[0m \u001B[38;5;250m\u001B[39m\u001B[38;5;124;03m\"\"\"\u001B[39;00m\n\u001B[0;32m    758\u001B[0m \u001B[38;5;124;03mThis function applies pre-processing stages of a face recognition pipeline\u001B[39;00m\n\u001B[0;32m    759\u001B[0m \u001B[38;5;124;03mincluding detection and alignment\u001B[39;00m\n\u001B[1;32m   (...)\u001B[0m\n\u001B[0;32m    783\u001B[0m \n\u001B[0;32m    784\u001B[0m \u001B[38;5;124;03m\"\"\"\u001B[39;00m\n\u001B[0;32m    786\u001B[0m resp_objs \u001B[38;5;241m=\u001B[39m []\n\u001B[1;32m--> 787\u001B[0m img_objs \u001B[38;5;241m=\u001B[39m \u001B[43mfunctions\u001B[49m\u001B[38;5;241;43m.\u001B[39;49m\u001B[43mextract_faces\u001B[49m\u001B[43m(\u001B[49m\n\u001B[0;32m    788\u001B[0m \u001B[43m    \u001B[49m\u001B[43mimg\u001B[49m\u001B[38;5;241;43m=\u001B[39;49m\u001B[43mimg_path\u001B[49m\u001B[43m,\u001B[49m\n\u001B[0;32m    789\u001B[0m \u001B[43m    \u001B[49m\u001B[43mtarget_size\u001B[49m\u001B[38;5;241;43m=\u001B[39;49m\u001B[43mtarget_size\u001B[49m\u001B[43m,\u001B[49m\n\u001B[0;32m    790\u001B[0m \u001B[43m    \u001B[49m\u001B[43mdetector_backend\u001B[49m\u001B[38;5;241;43m=\u001B[39;49m\u001B[43mdetector_backend\u001B[49m\u001B[43m,\u001B[49m\n\u001B[0;32m    791\u001B[0m \u001B[43m    \u001B[49m\u001B[43mgrayscale\u001B[49m\u001B[38;5;241;43m=\u001B[39;49m\u001B[43mgrayscale\u001B[49m\u001B[43m,\u001B[49m\n\u001B[0;32m    792\u001B[0m \u001B[43m    \u001B[49m\u001B[43menforce_detection\u001B[49m\u001B[38;5;241;43m=\u001B[39;49m\u001B[43menforce_detection\u001B[49m\u001B[43m,\u001B[49m\n\u001B[0;32m    793\u001B[0m \u001B[43m    \u001B[49m\u001B[43malign\u001B[49m\u001B[38;5;241;43m=\u001B[39;49m\u001B[43malign\u001B[49m\u001B[43m,\u001B[49m\n\u001B[0;32m    794\u001B[0m \u001B[43m\u001B[49m\u001B[43m)\u001B[49m\n\u001B[0;32m    796\u001B[0m \u001B[38;5;28;01mfor\u001B[39;00m img, region, confidence \u001B[38;5;129;01min\u001B[39;00m img_objs:\n\u001B[0;32m    797\u001B[0m     resp_obj \u001B[38;5;241m=\u001B[39m {}\n",
      "File \u001B[1;32mD:\\Applications\\Scoop\\apps\\anaconda3\\current\\envs\\dm-py39\\lib\\site-packages\\deepface\\commons\\functions.py:104\u001B[0m, in \u001B[0;36mextract_faces\u001B[1;34m(img, target_size, detector_backend, grayscale, enforce_detection, align)\u001B[0m\n\u001B[0;32m    101\u001B[0m extracted_faces \u001B[38;5;241m=\u001B[39m []\n\u001B[0;32m    103\u001B[0m \u001B[38;5;66;03m# img might be path, base64 or numpy array. Convert it to numpy whatever it is.\u001B[39;00m\n\u001B[1;32m--> 104\u001B[0m img \u001B[38;5;241m=\u001B[39m \u001B[43mload_image\u001B[49m\u001B[43m(\u001B[49m\u001B[43mimg\u001B[49m\u001B[43m)\u001B[49m\n\u001B[0;32m    105\u001B[0m img_region \u001B[38;5;241m=\u001B[39m [\u001B[38;5;241m0\u001B[39m, \u001B[38;5;241m0\u001B[39m, img\u001B[38;5;241m.\u001B[39mshape[\u001B[38;5;241m1\u001B[39m], img\u001B[38;5;241m.\u001B[39mshape[\u001B[38;5;241m0\u001B[39m]]\n\u001B[0;32m    107\u001B[0m \u001B[38;5;28;01mif\u001B[39;00m detector_backend \u001B[38;5;241m==\u001B[39m \u001B[38;5;124m\"\u001B[39m\u001B[38;5;124mskip\u001B[39m\u001B[38;5;124m\"\u001B[39m:\n",
      "File \u001B[1;32mD:\\Applications\\Scoop\\apps\\anaconda3\\current\\envs\\dm-py39\\lib\\site-packages\\deepface\\commons\\functions.py:81\u001B[0m, in \u001B[0;36mload_image\u001B[1;34m(img)\u001B[0m\n\u001B[0;32m     79\u001B[0m \u001B[38;5;28;01melif\u001B[39;00m exact_image \u001B[38;5;129;01mis\u001B[39;00m \u001B[38;5;129;01mnot\u001B[39;00m \u001B[38;5;28;01mTrue\u001B[39;00m:  \u001B[38;5;66;03m# image path passed as input\u001B[39;00m\n\u001B[0;32m     80\u001B[0m     \u001B[38;5;28;01mif\u001B[39;00m os\u001B[38;5;241m.\u001B[39mpath\u001B[38;5;241m.\u001B[39misfile(img) \u001B[38;5;129;01mis\u001B[39;00m \u001B[38;5;129;01mnot\u001B[39;00m \u001B[38;5;28;01mTrue\u001B[39;00m:\n\u001B[1;32m---> 81\u001B[0m         \u001B[38;5;28;01mraise\u001B[39;00m \u001B[38;5;167;01mValueError\u001B[39;00m(\u001B[38;5;124mf\u001B[39m\u001B[38;5;124m\"\u001B[39m\u001B[38;5;124mConfirm that \u001B[39m\u001B[38;5;132;01m{\u001B[39;00mimg\u001B[38;5;132;01m}\u001B[39;00m\u001B[38;5;124m exists\u001B[39m\u001B[38;5;124m\"\u001B[39m)\n\u001B[0;32m     83\u001B[0m     img \u001B[38;5;241m=\u001B[39m cv2\u001B[38;5;241m.\u001B[39mimread(img)\n\u001B[0;32m     85\u001B[0m \u001B[38;5;28;01mreturn\u001B[39;00m img\n",
      "\u001B[1;31mValueError\u001B[0m: Confirm that ../data/images_test/CE189/000011.png exists"
     ]
    }
   ],
   "source": [
    "from deepface import DeepFace\n",
    "\n",
    "image_path = '../data/images_test/CE189/000011.png'\n",
    "results = DeepFace.extract_faces(img_path=image_path, target_size=(224, 224), detector_backend='retinaface',\n",
    "                                 enforce_detection=False, align=True)\n"
   ],
   "metadata": {
    "collapsed": false,
    "ExecuteTime": {
     "start_time": "2023-04-10T08:48:05.910200Z",
     "end_time": "2023-04-10T08:48:16.627732Z"
    }
   }
  },
  {
   "cell_type": "code",
   "execution_count": 72,
   "outputs": [],
   "source": [
    "result = results[0]\n",
    "img = result['face']"
   ],
   "metadata": {
    "collapsed": false,
    "ExecuteTime": {
     "start_time": "2023-04-10T08:48:47.735921Z",
     "end_time": "2023-04-10T08:48:47.758328Z"
    }
   }
  },
  {
   "cell_type": "code",
   "execution_count": null,
   "outputs": [],
   "source": [
    "print(result)"
   ],
   "metadata": {
    "collapsed": false,
    "ExecuteTime": {
     "start_time": "2023-04-10T08:48:30.113087Z",
     "end_time": "2023-04-10T08:48:30.151096Z"
    }
   }
  },
  {
   "cell_type": "code",
   "execution_count": 44,
   "outputs": [
    {
     "name": "stdout",
     "output_type": "stream",
     "text": [
      "(160, 160, 3)\n",
      "float32\n"
     ]
    }
   ],
   "source": [
    "import numpy as np\n",
    "\n",
    "print(img.shape)\n",
    "print(img.dtype)"
   ],
   "metadata": {
    "collapsed": false,
    "ExecuteTime": {
     "start_time": "2023-04-10T07:21:20.959952Z",
     "end_time": "2023-04-10T07:21:20.974910Z"
    }
   }
  },
  {
   "cell_type": "code",
   "execution_count": 73,
   "outputs": [
    {
     "name": "stdout",
     "output_type": "stream",
     "text": [
      "(224, 224, 3)\n",
      "uint8\n"
     ]
    }
   ],
   "source": [
    "img_uint8 = (img * 255).astype('uint8')\n",
    "print(img_uint8.shape)\n",
    "print(img_uint8.dtype)"
   ],
   "metadata": {
    "collapsed": false,
    "ExecuteTime": {
     "start_time": "2023-04-10T08:48:51.986899Z",
     "end_time": "2023-04-10T08:48:52.006939Z"
    }
   }
  },
  {
   "cell_type": "code",
   "execution_count": 74,
   "outputs": [
    {
     "data": {
      "text/plain": "True"
     },
     "execution_count": 74,
     "metadata": {},
     "output_type": "execute_result"
    }
   ],
   "source": [
    "import cv2\n",
    "\n",
    "cv2.imwrite('./img.jpg', img_uint8)"
   ],
   "metadata": {
    "collapsed": false,
    "ExecuteTime": {
     "start_time": "2023-04-10T08:48:55.009916Z",
     "end_time": "2023-04-10T08:48:55.041116Z"
    }
   }
  },
  {
   "cell_type": "code",
   "execution_count": 75,
   "outputs": [
    {
     "data": {
      "text/plain": "True"
     },
     "execution_count": 75,
     "metadata": {},
     "output_type": "execute_result"
    }
   ],
   "source": [
    "import cv2\n",
    "\n",
    "rgb_image = cv2.cvtColor(img_uint8, cv2.COLOR_BGR2RGB)\n",
    "cv2.imwrite('./img.jpg', rgb_image)"
   ],
   "metadata": {
    "collapsed": false,
    "ExecuteTime": {
     "start_time": "2023-04-10T08:49:02.445992Z",
     "end_time": "2023-04-10T08:49:02.487035Z"
    }
   }
  },
  {
   "cell_type": "code",
   "execution_count": 24,
   "outputs": [],
   "source": [
    "from deepface import DeepFace\n",
    "\n",
    "embedding_objs = DeepFace.represent(img_path='./img.jpg', model_name='Facenet', detector_backend='skip',\n",
    "                                    normalization=\"Facenet\")"
   ],
   "metadata": {
    "collapsed": false,
    "ExecuteTime": {
     "start_time": "2023-04-11T00:45:47.935248Z",
     "end_time": "2023-04-11T00:45:53.649112Z"
    }
   }
  },
  {
   "cell_type": "code",
   "execution_count": 26,
   "outputs": [
    {
     "name": "stdout",
     "output_type": "stream",
     "text": [
      "[{'embedding': [-0.5998655557632446, 0.09635789692401886, -0.44526511430740356, -0.5499718189239502, -0.4184122681617737, 1.0316336154937744, -0.047363877296447754, 0.05811057239770889, -0.06364749372005463, -0.4374847412109375, -0.6846475005149841, -0.3969367742538452, -0.667243242263794, -0.3264548182487488, -0.08182108402252197, -1.5358526706695557, 0.4835343360900879, 0.42122185230255127, -0.41429272294044495, -1.7656537294387817, 0.4795822203159332, -0.4724545180797577, -0.08249136805534363, -0.31431305408477783, 0.4089224338531494, -0.1354808509349823, 0.006781302392482758, 1.0812424421310425, -0.1530412882566452, 0.5134035348892212, -0.20185503363609314, 2.0240650177001953, -0.06696172803640366, 0.008617080748081207, 0.6261898875236511, -0.4376049041748047, -0.4781394600868225, -0.8300483822822571, 0.8670490384101868, -1.4367796182632446, -0.3393772840499878, 0.4943060874938965, -0.7407701015472412, -0.5031096339225769, 1.8698087930679321, 0.9831298589706421, 1.0600498914718628, -1.6548842191696167, 0.333410382270813, -0.16128188371658325, -0.3237614631652832, 0.08346746861934662, 0.7246649861335754, -1.459139347076416, 0.45785945653915405, 0.9349228143692017, -0.7869373559951782, -1.3148869276046753, 1.092516303062439, -0.6099010109901428, 0.2671613395214081, 0.6018642783164978, 0.21043315529823303, -0.41825658082962036, 0.49478811025619507, 0.741916298866272, 0.29679983854293823, 0.8071097135543823, 0.9428931474685669, -1.0597985982894897, -0.27997666597366333, 0.4310339391231537, -0.43761327862739563, -1.765451431274414, 0.307505339384079, 0.31071236729621887, -1.2035781145095825, -0.5799662470817566, 0.5058862566947937, 0.09786413609981537, 0.9594396352767944, 0.8990323543548584, -0.7154214978218079, 0.05536583065986633, -0.07138020545244217, 0.767997145652771, 0.1534193456172943, 0.1435367912054062, -0.933506965637207, 0.7840242981910706, 0.700980007648468, 1.3343405723571777, -2.0685434341430664, 0.4881525933742523, 0.5316978693008423, 1.3626303672790527, -0.19396091997623444, -0.7232731580734253, 0.15067683160305023, 1.5398263931274414, -0.5425599217414856, -0.04287058115005493, -0.030396103858947754, -1.1997956037521362, -1.2132524251937866, 0.22172722220420837, -1.3548775911331177, 0.6775122880935669, -0.19730310142040253, -0.22260728478431702, -1.237471103668213, -0.5947622060775757, -1.227596640586853, 0.11271753907203674, 0.37097474932670593, 1.3883134126663208, -0.4090462923049927, 0.09671847522258759, -0.14423036575317383, 0.513103187084198, -0.10424056649208069, 0.5009311437606812, 1.3378418684005737, 0.25566816329956055, 0.14963094890117645, -0.9632595777511597, 0.9605356454849243, -1.4921525716781616], 'facial_area': [0, 0, 160, 1]}]\n"
     ]
    }
   ],
   "source": [
    "print(embedding_objs)"
   ],
   "metadata": {
    "collapsed": false,
    "ExecuteTime": {
     "start_time": "2023-04-11T00:45:59.043810Z",
     "end_time": "2023-04-11T00:45:59.061858Z"
    }
   }
  },
  {
   "cell_type": "code",
   "execution_count": 27,
   "outputs": [],
   "source": [
    "embedding = embedding_objs[0][\"embedding\"]\n",
    "assert isinstance(embedding, list)"
   ],
   "metadata": {
    "collapsed": false,
    "ExecuteTime": {
     "start_time": "2023-04-11T00:46:01.205259Z",
     "end_time": "2023-04-11T00:46:01.238464Z"
    }
   }
  },
  {
   "cell_type": "code",
   "execution_count": 28,
   "outputs": [
    {
     "data": {
      "text/plain": "128"
     },
     "execution_count": 28,
     "metadata": {},
     "output_type": "execute_result"
    }
   ],
   "source": [
    "len(embedding)"
   ],
   "metadata": {
    "collapsed": false,
    "ExecuteTime": {
     "start_time": "2023-04-11T00:46:06.197595Z",
     "end_time": "2023-04-11T00:46:06.217964Z"
    }
   }
  },
  {
   "cell_type": "code",
   "execution_count": 29,
   "outputs": [
    {
     "name": "stdout",
     "output_type": "stream",
     "text": [
      "[-0.5998655557632446, 0.09635789692401886, -0.44526511430740356, -0.5499718189239502, -0.4184122681617737, 1.0316336154937744, -0.047363877296447754, 0.05811057239770889, -0.06364749372005463, -0.4374847412109375, -0.6846475005149841, -0.3969367742538452, -0.667243242263794, -0.3264548182487488, -0.08182108402252197, -1.5358526706695557, 0.4835343360900879, 0.42122185230255127, -0.41429272294044495, -1.7656537294387817, 0.4795822203159332, -0.4724545180797577, -0.08249136805534363, -0.31431305408477783, 0.4089224338531494, -0.1354808509349823, 0.006781302392482758, 1.0812424421310425, -0.1530412882566452, 0.5134035348892212, -0.20185503363609314, 2.0240650177001953, -0.06696172803640366, 0.008617080748081207, 0.6261898875236511, -0.4376049041748047, -0.4781394600868225, -0.8300483822822571, 0.8670490384101868, -1.4367796182632446, -0.3393772840499878, 0.4943060874938965, -0.7407701015472412, -0.5031096339225769, 1.8698087930679321, 0.9831298589706421, 1.0600498914718628, -1.6548842191696167, 0.333410382270813, -0.16128188371658325, -0.3237614631652832, 0.08346746861934662, 0.7246649861335754, -1.459139347076416, 0.45785945653915405, 0.9349228143692017, -0.7869373559951782, -1.3148869276046753, 1.092516303062439, -0.6099010109901428, 0.2671613395214081, 0.6018642783164978, 0.21043315529823303, -0.41825658082962036, 0.49478811025619507, 0.741916298866272, 0.29679983854293823, 0.8071097135543823, 0.9428931474685669, -1.0597985982894897, -0.27997666597366333, 0.4310339391231537, -0.43761327862739563, -1.765451431274414, 0.307505339384079, 0.31071236729621887, -1.2035781145095825, -0.5799662470817566, 0.5058862566947937, 0.09786413609981537, 0.9594396352767944, 0.8990323543548584, -0.7154214978218079, 0.05536583065986633, -0.07138020545244217, 0.767997145652771, 0.1534193456172943, 0.1435367912054062, -0.933506965637207, 0.7840242981910706, 0.700980007648468, 1.3343405723571777, -2.0685434341430664, 0.4881525933742523, 0.5316978693008423, 1.3626303672790527, -0.19396091997623444, -0.7232731580734253, 0.15067683160305023, 1.5398263931274414, -0.5425599217414856, -0.04287058115005493, -0.030396103858947754, -1.1997956037521362, -1.2132524251937866, 0.22172722220420837, -1.3548775911331177, 0.6775122880935669, -0.19730310142040253, -0.22260728478431702, -1.237471103668213, -0.5947622060775757, -1.227596640586853, 0.11271753907203674, 0.37097474932670593, 1.3883134126663208, -0.4090462923049927, 0.09671847522258759, -0.14423036575317383, 0.513103187084198, -0.10424056649208069, 0.5009311437606812, 1.3378418684005737, 0.25566816329956055, 0.14963094890117645, -0.9632595777511597, 0.9605356454849243, -1.4921525716781616]\n"
     ]
    }
   ],
   "source": [
    "print(embedding)"
   ],
   "metadata": {
    "collapsed": false,
    "ExecuteTime": {
     "start_time": "2023-04-11T00:46:08.304777Z",
     "end_time": "2023-04-11T00:46:08.318270Z"
    }
   }
  },
  {
   "cell_type": "code",
   "execution_count": 7,
   "outputs": [],
   "source": [
    "# Load lại file numpy đã lưu\n",
    "import numpy as np\n",
    "\n",
    "npzfile = np.load('../data/embeddings/test_facenet_embeddings.npz')\n",
    "X = npzfile['embedding']\n",
    "y = npzfile['label']\n"
   ],
   "metadata": {
    "collapsed": false,
    "ExecuteTime": {
     "start_time": "2023-04-11T00:19:13.104273Z",
     "end_time": "2023-04-11T00:19:13.169307Z"
    }
   }
  },
  {
   "cell_type": "code",
   "execution_count": 8,
   "outputs": [
    {
     "name": "stdout",
     "output_type": "stream",
     "text": [
      "(128,)\n"
     ]
    }
   ],
   "source": [
    "print(X[0].shape)"
   ],
   "metadata": {
    "collapsed": false,
    "ExecuteTime": {
     "start_time": "2023-04-11T00:19:15.035482Z",
     "end_time": "2023-04-11T00:19:15.063268Z"
    }
   }
  },
  {
   "cell_type": "code",
   "execution_count": 9,
   "outputs": [
    {
     "name": "stdout",
     "output_type": "stream",
     "text": [
      "654 654\n"
     ]
    }
   ],
   "source": [
    "print(len(X), len(y))"
   ],
   "metadata": {
    "collapsed": false,
    "ExecuteTime": {
     "start_time": "2023-04-11T00:19:24.169700Z",
     "end_time": "2023-04-11T00:19:24.194884Z"
    }
   }
  },
  {
   "cell_type": "code",
   "execution_count": null,
   "outputs": [],
   "source": [],
   "metadata": {
    "collapsed": false
   }
  },
  {
   "cell_type": "code",
   "execution_count": 18,
   "outputs": [],
   "source": [
    "import cv2\n",
    "from numpy import expand_dims\n",
    "from keras.models import load_model\n",
    "import numpy as np\n",
    "from sklearn.neighbors import KNeighborsClassifier\n",
    "import os"
   ],
   "metadata": {
    "collapsed": false,
    "ExecuteTime": {
     "start_time": "2023-04-11T00:39:23.402582Z",
     "end_time": "2023-04-11T00:39:23.430100Z"
    }
   }
  },
  {
   "cell_type": "code",
   "execution_count": 14,
   "outputs": [],
   "source": [
    "def embedding_vector(model, path_img):\n",
    "    img = cv2.imread(path_img)\n",
    "    mean, std = img.mean(), img.std()\n",
    "    img = (img - mean) / std\n",
    "\n",
    "    samples = expand_dims(img, axis=0)\n",
    "\n",
    "    predict = model.predict(samples)\n",
    "\n",
    "    return predict[0]"
   ],
   "metadata": {
    "collapsed": false,
    "ExecuteTime": {
     "start_time": "2023-04-11T00:37:18.461842Z",
     "end_time": "2023-04-11T00:37:18.493405Z"
    }
   }
  },
  {
   "cell_type": "code",
   "execution_count": null,
   "outputs": [],
   "source": [
    "model = load_model('../model/facenet_keras.h5')"
   ],
   "metadata": {
    "collapsed": false
   }
  },
  {
   "cell_type": "code",
   "execution_count": null,
   "outputs": [],
   "source": [
    "x_train = []\n",
    "y_train = []\n",
    "x_test = []\n",
    "y_test = []"
   ],
   "metadata": {
    "collapsed": false
   }
  },
  {
   "cell_type": "code",
   "execution_count": null,
   "outputs": [],
   "source": [
    "def get_data(path, x, y):\n",
    "    image_path = path\n",
    "    for folder in os.listdir(image_path):\n",
    "        folder_path = os.path.join(image_path, folder)\n",
    "\n",
    "        for file in os.listdir(folder_path):\n",
    "            path_img = os.path.join(folder_path, file)\n",
    "            emb = embedding_vector(model, path_img)\n",
    "            x.append(emb)\n",
    "            y.append(folder)"
   ],
   "metadata": {
    "collapsed": false
   }
  },
  {
   "cell_type": "code",
   "execution_count": null,
   "outputs": [],
   "source": [
    "get_data(path=\"../data/faces_train\", x=x_train, y=y_train)"
   ],
   "metadata": {
    "collapsed": false
   }
  },
  {
   "cell_type": "code",
   "execution_count": null,
   "outputs": [],
   "source": [
    "get_data(path=\"s../data/faces_test\", x=x_train, y=y_train)"
   ],
   "metadata": {
    "collapsed": false
   }
  },
  {
   "cell_type": "code",
   "execution_count": 5,
   "outputs": [],
   "source": [
    "import numpy as np\n",
    "\n",
    "train_path = \"../data/embeddings/VGG-Face/train_VGG-Face_embeddings.npz\"\n",
    "# Load lại file numpy embeddings\n",
    "npzfile = np.load(train_path)\n",
    "X_train = npzfile['embedding']\n",
    "y_train = npzfile['label']"
   ],
   "metadata": {
    "collapsed": false,
    "ExecuteTime": {
     "start_time": "2023-04-11T19:21:52.494017Z",
     "end_time": "2023-04-11T19:21:52.624097Z"
    }
   }
  },
  {
   "cell_type": "code",
   "execution_count": 6,
   "outputs": [],
   "source": [
    "import numpy as np\n",
    "\n",
    "test_path = \"../data/embeddings/VGG-Face/test_VGG-Face_embeddings.npz\"\n",
    "# Load lại file numpy embeddings\n",
    "npzfile = np.load(test_path)\n",
    "X_test = npzfile['embedding']\n",
    "y_test = npzfile['label']"
   ],
   "metadata": {
    "collapsed": false,
    "ExecuteTime": {
     "start_time": "2023-04-11T19:21:56.196720Z",
     "end_time": "2023-04-11T19:21:56.249885Z"
    }
   }
  },
  {
   "cell_type": "code",
   "execution_count": 7,
   "outputs": [
    {
     "name": "stdout",
     "output_type": "stream",
     "text": [
      "[[-7.40225434e-01 -2.26085186e+00  2.74283625e-03 ... -1.97919440e+00\n",
      "   5.24204969e+00  9.18417835e+00]\n",
      " [ 1.44123626e+00 -2.10662782e-01  5.34805655e-01 ... -1.11319415e-01\n",
      "   5.14419937e+00  4.94756031e+00]\n",
      " [ 7.39432991e-01  8.13351274e-02 -1.92513669e+00 ...  4.39464301e-01\n",
      "   3.55124402e+00  2.79754472e+00]\n",
      " ...\n",
      " [ 2.57113838e+00 -2.45878434e+00 -1.59363294e+00 ...  1.36927092e+00\n",
      "   6.22254848e+00  4.12654257e+00]\n",
      " [ 1.45693803e+00 -2.48963428e+00 -1.40273976e+00 ... -4.48384857e+00\n",
      "   3.51284623e+00  2.51472545e+00]\n",
      " [-8.47849399e-02 -1.08674109e+00 -1.09409308e+00 ...  3.19091260e-01\n",
      "   4.02926254e+00  3.15841722e+00]]\n",
      "[ 1  1  1 ... 50 50 50]\n",
      "2104 2104\n"
     ]
    }
   ],
   "source": [
    "print(X_train)\n",
    "print(y_train)\n",
    "print(len(X_train), len(y_train))"
   ],
   "metadata": {
    "collapsed": false,
    "ExecuteTime": {
     "start_time": "2023-04-11T19:21:57.692122Z",
     "end_time": "2023-04-11T19:21:57.743427Z"
    }
   }
  },
  {
   "cell_type": "code",
   "execution_count": 11,
   "outputs": [
    {
     "data": {
      "text/plain": "(2622,)"
     },
     "execution_count": 11,
     "metadata": {},
     "output_type": "execute_result"
    }
   ],
   "source": [
    "X_train[0].shape"
   ],
   "metadata": {
    "collapsed": false,
    "ExecuteTime": {
     "start_time": "2023-04-11T19:22:21.220818Z",
     "end_time": "2023-04-11T19:22:21.283699Z"
    }
   }
  },
  {
   "cell_type": "code",
   "execution_count": 179,
   "outputs": [
    {
     "name": "stdout",
     "output_type": "stream",
     "text": [
      "[ 1.30405784 -2.41341519  1.60164559 ... -2.57689238  5.66663933\n",
      "  5.73442364] 1\n",
      "553 553\n"
     ]
    }
   ],
   "source": [
    "print(X_test[0], y_test[0])\n",
    "print(len(X_test), len(y_test))"
   ],
   "metadata": {
    "collapsed": false,
    "ExecuteTime": {
     "start_time": "2023-04-11T18:46:43.321293Z",
     "end_time": "2023-04-11T18:46:43.346115Z"
    }
   }
  },
  {
   "cell_type": "code",
   "execution_count": 180,
   "outputs": [],
   "source": [
    "X_train = np.array(X_train)\n",
    "y_train = np.array(y_train)\n",
    "X_test = np.array(X_test)\n",
    "y_test = np.array(y_test)"
   ],
   "metadata": {
    "collapsed": false,
    "ExecuteTime": {
     "start_time": "2023-04-11T18:46:44.178104Z",
     "end_time": "2023-04-11T18:46:44.223569Z"
    }
   }
  },
  {
   "cell_type": "code",
   "execution_count": 181,
   "outputs": [
    {
     "name": "stdout",
     "output_type": "stream",
     "text": [
      "[[-7.40225434e-01 -2.26085186e+00  2.74283625e-03 ... -1.97919440e+00\n",
      "   5.24204969e+00  9.18417835e+00]\n",
      " [ 1.44123626e+00 -2.10662782e-01  5.34805655e-01 ... -1.11319415e-01\n",
      "   5.14419937e+00  4.94756031e+00]\n",
      " [ 7.39432991e-01  8.13351274e-02 -1.92513669e+00 ...  4.39464301e-01\n",
      "   3.55124402e+00  2.79754472e+00]\n",
      " ...\n",
      " [ 2.57113838e+00 -2.45878434e+00 -1.59363294e+00 ...  1.36927092e+00\n",
      "   6.22254848e+00  4.12654257e+00]\n",
      " [ 1.45693803e+00 -2.48963428e+00 -1.40273976e+00 ... -4.48384857e+00\n",
      "   3.51284623e+00  2.51472545e+00]\n",
      " [-8.47849399e-02 -1.08674109e+00 -1.09409308e+00 ...  3.19091260e-01\n",
      "   4.02926254e+00  3.15841722e+00]]\n",
      "[ 1  1  1 ... 50 50 50]\n",
      "2104 2104\n"
     ]
    }
   ],
   "source": [
    "print(X_train)\n",
    "print(y_train)\n",
    "print(len(X_train), len(y_train))"
   ],
   "metadata": {
    "collapsed": false,
    "ExecuteTime": {
     "start_time": "2023-04-11T18:46:45.772616Z",
     "end_time": "2023-04-11T18:46:45.784836Z"
    }
   }
  },
  {
   "cell_type": "code",
   "execution_count": 182,
   "outputs": [
    {
     "name": "stdout",
     "output_type": "stream",
     "text": [
      "[ 1.30405784 -2.41341519  1.60164559 ... -2.57689238  5.66663933\n",
      "  5.73442364] 1\n",
      "553 553\n"
     ]
    }
   ],
   "source": [
    "print(X_test[0], y_test[0])\n",
    "print(len(X_test), len(y_test))"
   ],
   "metadata": {
    "collapsed": false,
    "ExecuteTime": {
     "start_time": "2023-04-11T18:46:48.779516Z",
     "end_time": "2023-04-11T18:46:48.806573Z"
    }
   }
  },
  {
   "cell_type": "code",
   "execution_count": 166,
   "outputs": [],
   "source": [
    "import cv2\n",
    "from numpy import expand_dims\n",
    "from keras.models import load_model\n",
    "import numpy as np\n",
    "from sklearn.neighbors import KNeighborsClassifier\n",
    "import os"
   ],
   "metadata": {
    "collapsed": false,
    "ExecuteTime": {
     "start_time": "2023-04-11T18:45:06.056124Z",
     "end_time": "2023-04-11T18:45:06.072936Z"
    }
   }
  },
  {
   "cell_type": "code",
   "execution_count": 167,
   "outputs": [
    {
     "name": "stdout",
     "output_type": "stream",
     "text": [
      "[[13  0  0 ...  0  0  0]\n",
      " [ 0 13  0 ...  0  0  0]\n",
      " [ 0  0 10 ...  0  0  0]\n",
      " ...\n",
      " [ 0  0  0 ... 14  0  0]\n",
      " [ 0  0  0 ...  0  7  0]\n",
      " [ 0  0  0 ...  0  0 12]]\n",
      "0.9113924050632911\n"
     ]
    }
   ],
   "source": [
    "from sklearn.svm import SVC\n",
    "from sklearn.metrics import confusion_matrix, accuracy_score\n",
    "\n",
    "model = SVC(kernel='linear', probability=True)\n",
    "model.fit(X_train, y_train)\n",
    "y_pred2 = model.predict(X_test)\n",
    "cm2 = confusion_matrix(y_test, y_pred2)\n",
    "ac2 = accuracy_score(y_test, y_pred2)\n",
    "\n",
    "print(cm2)\n",
    "print(ac2)"
   ],
   "metadata": {
    "collapsed": false,
    "ExecuteTime": {
     "start_time": "2023-04-11T18:45:07.358556Z",
     "end_time": "2023-04-11T18:45:16.807115Z"
    }
   }
  },
  {
   "cell_type": "code",
   "execution_count": 168,
   "outputs": [
    {
     "data": {
      "text/plain": "KNeighborsClassifier(metric='cosine', n_neighbors=3)",
      "text/html": "<style>#sk-container-id-19 {color: black;background-color: white;}#sk-container-id-19 pre{padding: 0;}#sk-container-id-19 div.sk-toggleable {background-color: white;}#sk-container-id-19 label.sk-toggleable__label {cursor: pointer;display: block;width: 100%;margin-bottom: 0;padding: 0.3em;box-sizing: border-box;text-align: center;}#sk-container-id-19 label.sk-toggleable__label-arrow:before {content: \"▸\";float: left;margin-right: 0.25em;color: #696969;}#sk-container-id-19 label.sk-toggleable__label-arrow:hover:before {color: black;}#sk-container-id-19 div.sk-estimator:hover label.sk-toggleable__label-arrow:before {color: black;}#sk-container-id-19 div.sk-toggleable__content {max-height: 0;max-width: 0;overflow: hidden;text-align: left;background-color: #f0f8ff;}#sk-container-id-19 div.sk-toggleable__content pre {margin: 0.2em;color: black;border-radius: 0.25em;background-color: #f0f8ff;}#sk-container-id-19 input.sk-toggleable__control:checked~div.sk-toggleable__content {max-height: 200px;max-width: 100%;overflow: auto;}#sk-container-id-19 input.sk-toggleable__control:checked~label.sk-toggleable__label-arrow:before {content: \"▾\";}#sk-container-id-19 div.sk-estimator input.sk-toggleable__control:checked~label.sk-toggleable__label {background-color: #d4ebff;}#sk-container-id-19 div.sk-label input.sk-toggleable__control:checked~label.sk-toggleable__label {background-color: #d4ebff;}#sk-container-id-19 input.sk-hidden--visually {border: 0;clip: rect(1px 1px 1px 1px);clip: rect(1px, 1px, 1px, 1px);height: 1px;margin: -1px;overflow: hidden;padding: 0;position: absolute;width: 1px;}#sk-container-id-19 div.sk-estimator {font-family: monospace;background-color: #f0f8ff;border: 1px dotted black;border-radius: 0.25em;box-sizing: border-box;margin-bottom: 0.5em;}#sk-container-id-19 div.sk-estimator:hover {background-color: #d4ebff;}#sk-container-id-19 div.sk-parallel-item::after {content: \"\";width: 100%;border-bottom: 1px solid gray;flex-grow: 1;}#sk-container-id-19 div.sk-label:hover label.sk-toggleable__label {background-color: #d4ebff;}#sk-container-id-19 div.sk-serial::before {content: \"\";position: absolute;border-left: 1px solid gray;box-sizing: border-box;top: 0;bottom: 0;left: 50%;z-index: 0;}#sk-container-id-19 div.sk-serial {display: flex;flex-direction: column;align-items: center;background-color: white;padding-right: 0.2em;padding-left: 0.2em;position: relative;}#sk-container-id-19 div.sk-item {position: relative;z-index: 1;}#sk-container-id-19 div.sk-parallel {display: flex;align-items: stretch;justify-content: center;background-color: white;position: relative;}#sk-container-id-19 div.sk-item::before, #sk-container-id-19 div.sk-parallel-item::before {content: \"\";position: absolute;border-left: 1px solid gray;box-sizing: border-box;top: 0;bottom: 0;left: 50%;z-index: -1;}#sk-container-id-19 div.sk-parallel-item {display: flex;flex-direction: column;z-index: 1;position: relative;background-color: white;}#sk-container-id-19 div.sk-parallel-item:first-child::after {align-self: flex-end;width: 50%;}#sk-container-id-19 div.sk-parallel-item:last-child::after {align-self: flex-start;width: 50%;}#sk-container-id-19 div.sk-parallel-item:only-child::after {width: 0;}#sk-container-id-19 div.sk-dashed-wrapped {border: 1px dashed gray;margin: 0 0.4em 0.5em 0.4em;box-sizing: border-box;padding-bottom: 0.4em;background-color: white;}#sk-container-id-19 div.sk-label label {font-family: monospace;font-weight: bold;display: inline-block;line-height: 1.2em;}#sk-container-id-19 div.sk-label-container {text-align: center;}#sk-container-id-19 div.sk-container {/* jupyter's `normalize.less` sets `[hidden] { display: none; }` but bootstrap.min.css set `[hidden] { display: none !important; }` so we also need the `!important` here to be able to override the default hidden behavior on the sphinx rendered scikit-learn.org. See: https://github.com/scikit-learn/scikit-learn/issues/21755 */display: inline-block !important;position: relative;}#sk-container-id-19 div.sk-text-repr-fallback {display: none;}</style><div id=\"sk-container-id-19\" class=\"sk-top-container\"><div class=\"sk-text-repr-fallback\"><pre>KNeighborsClassifier(metric=&#x27;cosine&#x27;, n_neighbors=3)</pre><b>In a Jupyter environment, please rerun this cell to show the HTML representation or trust the notebook. <br />On GitHub, the HTML representation is unable to render, please try loading this page with nbviewer.org.</b></div><div class=\"sk-container\" hidden><div class=\"sk-item\"><div class=\"sk-estimator sk-toggleable\"><input class=\"sk-toggleable__control sk-hidden--visually\" id=\"sk-estimator-id-19\" type=\"checkbox\" checked><label for=\"sk-estimator-id-19\" class=\"sk-toggleable__label sk-toggleable__label-arrow\">KNeighborsClassifier</label><div class=\"sk-toggleable__content\"><pre>KNeighborsClassifier(metric=&#x27;cosine&#x27;, n_neighbors=3)</pre></div></div></div></div></div>"
     },
     "execution_count": 168,
     "metadata": {},
     "output_type": "execute_result"
    }
   ],
   "source": [
    "classifier = KNeighborsClassifier(metric=\"cosine\", n_neighbors=3)\n",
    "classifier.fit(X_train, y_train)"
   ],
   "metadata": {
    "collapsed": false,
    "ExecuteTime": {
     "start_time": "2023-04-11T18:45:18.567784Z",
     "end_time": "2023-04-11T18:45:18.598812Z"
    }
   }
  },
  {
   "cell_type": "code",
   "execution_count": 169,
   "outputs": [],
   "source": [
    "y_pred = classifier.predict(X_test)"
   ],
   "metadata": {
    "collapsed": false,
    "ExecuteTime": {
     "start_time": "2023-04-11T18:45:20.419974Z",
     "end_time": "2023-04-11T18:45:20.590913Z"
    }
   }
  },
  {
   "cell_type": "code",
   "execution_count": 170,
   "outputs": [],
   "source": [
    "from sklearn.metrics import confusion_matrix, accuracy_score\n",
    "\n",
    "cm = confusion_matrix(y_test, y_pred)\n",
    "ac = accuracy_score(y_test, y_pred)"
   ],
   "metadata": {
    "collapsed": false,
    "ExecuteTime": {
     "start_time": "2023-04-11T18:45:22.090294Z",
     "end_time": "2023-04-11T18:45:22.113401Z"
    }
   }
  },
  {
   "cell_type": "code",
   "execution_count": 171,
   "outputs": [
    {
     "data": {
      "text/plain": "0.8679927667269439"
     },
     "execution_count": 171,
     "metadata": {},
     "output_type": "execute_result"
    }
   ],
   "source": [
    "ac"
   ],
   "metadata": {
    "collapsed": false,
    "ExecuteTime": {
     "start_time": "2023-04-11T18:45:23.048763Z",
     "end_time": "2023-04-11T18:45:23.080217Z"
    }
   }
  },
  {
   "cell_type": "code",
   "execution_count": 172,
   "outputs": [
    {
     "data": {
      "text/plain": "array([[14,  0,  0, ...,  0,  0,  0],\n       [ 1, 11,  0, ...,  0,  0,  0],\n       [ 0,  0,  9, ...,  0,  0,  0],\n       ...,\n       [ 0,  0,  0, ..., 12,  0,  0],\n       [ 0,  0,  0, ...,  0,  7,  0],\n       [ 0,  0,  0, ...,  0,  0, 12]], dtype=int64)"
     },
     "execution_count": 172,
     "metadata": {},
     "output_type": "execute_result"
    }
   ],
   "source": [
    "cm"
   ],
   "metadata": {
    "collapsed": false,
    "ExecuteTime": {
     "start_time": "2023-04-11T18:45:24.029886Z",
     "end_time": "2023-04-11T18:45:24.073404Z"
    }
   }
  },
  {
   "cell_type": "code",
   "execution_count": 117,
   "outputs": [
    {
     "name": "stdout",
     "output_type": "stream",
     "text": [
      "1/1 [==============================] - 0s 25ms/step\n",
      "1/1 [==============================] - 0s 32ms/step\n",
      "1/1 [==============================] - 0s 20ms/step\n",
      "1/1 [==============================] - 0s 22ms/step\n",
      "1/1 [==============================] - 0s 24ms/step\n",
      "1/1 [==============================] - 0s 21ms/step\n",
      "1/1 [==============================] - 0s 22ms/step\n",
      "1/1 [==============================] - 0s 24ms/step\n",
      "1/1 [==============================] - 0s 26ms/step\n",
      "1/1 [==============================] - 0s 26ms/step\n",
      "1/1 [==============================] - 0s 25ms/step\n",
      "1/1 [==============================] - 0s 25ms/step\n",
      "1/1 [==============================] - 0s 25ms/step\n",
      "1/1 [==============================] - 0s 25ms/step\n",
      "1/1 [==============================] - 0s 21ms/step\n",
      "1/1 [==============================] - 0s 22ms/step\n",
      "1/1 [==============================] - 0s 21ms/step\n",
      "1/1 [==============================] - 0s 22ms/step\n",
      "1/1 [==============================] - 0s 28ms/step\n",
      "1/1 [==============================] - 0s 25ms/step\n",
      "{'verified': True, 'distance': 0.21291609269694345, 'threshold': 0.4, 'model': 'Facenet', 'detector_backend': 'mtcnn', 'similarity_metric': 'cosine', 'facial_areas': {'img1': {'x': 37, 'y': 0, 'w': 154, 'h': 216}, 'img2': {'x': 30, 'y': 0, 'w': 157, 'h': 209}}, 'time': 1.45}\n"
     ]
    }
   ],
   "source": [
    "from deepface import DeepFace\n",
    "\n",
    "result = DeepFace.verify(img1_path=\"../data/faces_test/CE001/000002.jpg\",\n",
    "                         img2_path=\"../data/faces_test/CE001/000025.jpg\", model_name=\"Facenet\",\n",
    "                         distance_metric=\"cosine\", detector_backend=\"mtcnn\")\n",
    "print(result)\n"
   ],
   "metadata": {
    "collapsed": false,
    "ExecuteTime": {
     "start_time": "2023-04-11T18:24:59.901942Z",
     "end_time": "2023-04-11T18:25:01.368424Z"
    }
   }
  },
  {
   "cell_type": "code",
   "execution_count": 106,
   "outputs": [],
   "source": [],
   "metadata": {
    "collapsed": false,
    "ExecuteTime": {
     "start_time": "2023-04-11T18:20:59.678813Z",
     "end_time": "2023-04-11T18:20:59.701437Z"
    }
   }
  },
  {
   "cell_type": "code",
   "execution_count": 1,
   "outputs": [
    {
     "name": "stdout",
     "output_type": "stream",
     "text": [
      "<class 'numpy.ndarray'>\n"
     ]
    }
   ],
   "source": [
    "from src.extract_features.sift_embeddings import compute_sift_vector, save_embeddings\n",
    "import cv2\n",
    "\n",
    "image_path = \"../data/faces_test_224/CE001/000002.jpg\"\n",
    "\n",
    "embedding = compute_sift_vector(image_path)\n",
    "\n",
    "import numpy as np\n",
    "\n",
    "embedding = np.array(embedding)\n",
    "print(type(embedding))\n"
   ],
   "metadata": {
    "collapsed": false,
    "ExecuteTime": {
     "start_time": "2023-04-12T03:17:54.775961Z",
     "end_time": "2023-04-12T03:17:54.804526Z"
    }
   }
  },
  {
   "cell_type": "code",
   "execution_count": 2,
   "outputs": [
    {
     "name": "stdout",
     "output_type": "stream",
     "text": [
      "(125, 128)\n"
     ]
    }
   ],
   "source": [
    "print(embedding.shape)"
   ],
   "metadata": {
    "collapsed": false,
    "ExecuteTime": {
     "start_time": "2023-04-12T03:25:55.288409Z",
     "end_time": "2023-04-12T03:25:55.345127Z"
    }
   }
  },
  {
   "cell_type": "code",
   "execution_count": 3,
   "outputs": [
    {
     "name": "stdout",
     "output_type": "stream",
     "text": [
      "[[ 5.  1.  0. ...  0.  0.  3.]\n",
      " [26.  0.  0. ...  0. 31. 16.]\n",
      " [ 6.  0.  0. ...  1.  0.  1.]\n",
      " ...\n",
      " [ 1.  1.  0. ...  3.  7. 56.]\n",
      " [ 2.  0.  0. ...  0.  0.  0.]\n",
      " [ 1.  0.  0. ...  8.  3.  0.]]\n"
     ]
    }
   ],
   "source": [
    "print((embedding))"
   ],
   "metadata": {
    "collapsed": false,
    "ExecuteTime": {
     "start_time": "2023-04-12T03:25:56.482137Z",
     "end_time": "2023-04-12T03:25:56.499490Z"
    }
   }
  },
  {
   "cell_type": "code",
   "execution_count": null,
   "outputs": [],
   "source": [],
   "metadata": {
    "collapsed": false
   }
  },
  {
   "cell_type": "code",
   "execution_count": 1,
   "outputs": [
    {
     "name": "stderr",
     "output_type": "stream",
     "text": [
      "100%|██████████| 1/1 [00:02<00:00,  2.23s/it]\n"
     ]
    }
   ],
   "source": [
    "from src.extract_features.sift_embeddings import compute_sift_vector, save_sift_embeddings_with_id\n",
    "\n",
    "save_sift_embeddings_with_id(\"../data/images_test\", \"./\", \"abc.npz\")"
   ],
   "metadata": {
    "collapsed": false,
    "ExecuteTime": {
     "start_time": "2023-04-12T04:04:01.517418Z",
     "end_time": "2023-04-12T04:04:03.960873Z"
    }
   }
  },
  {
   "cell_type": "code",
   "execution_count": null,
   "outputs": [],
   "source": [
    "from src.utils.load_data import load_data\n",
    "from src.utils.knn_test import knn\n",
    "\n",
    "#Facenet\n",
    "train_path = \"./abc.npz\"\n",
    "test_path = \"./abc.npz\"\n",
    "\n",
    "x_train, y_train, x_test, y_test = load_data(train_path=train_path, test_path=test_path)\n",
    "results = knn(x_train, y_train, x_test, y_test)\n",
    "\n",
    "for k, metrics in results.items():\n",
    "    print(\n",
    "        f\"k = {k:2d}:  Accuracy: {metrics['accuracy']:.4f}  Precision: {metrics['precision']:.4f}  Recall: {metrics['recall']:.4f}  F1-score: {metrics['f1']:.4f}\")"
   ],
   "metadata": {
    "collapsed": false,
    "ExecuteTime": {
     "start_time": "2023-04-12T03:55:35.751991Z",
     "end_time": "2023-04-12T03:55:37.775951Z"
    }
   }
  },
  {
   "cell_type": "code",
   "execution_count": 3,
   "outputs": [
    {
     "name": "stderr",
     "output_type": "stream",
     "text": [
      "100%|██████████| 50/50 [00:24<00:00,  2.07it/s]\n",
      "100%|██████████| 50/50 [00:07<00:00,  6.90it/s]\n"
     ]
    }
   ],
   "source": [
    "from src.extract_features.sift_embeddings import save_sift_embeddings_with_id\n",
    "\n",
    "# Trích xuất đặc trưng với SIFT\n",
    "save_sift_embeddings_with_id(\"../data/faces_train_224\", \"../data/embeddings/SIFT\", \"train_SIFT_embeddings_id.npz\")\n",
    "save_sift_embeddings_with_id(\"../data/faces_test_224\", \"../data/embeddings/SIFT\", \"test_SIFT_embeddings_id.npz\")"
   ],
   "metadata": {
    "collapsed": false,
    "ExecuteTime": {
     "start_time": "2023-04-12T04:04:35.363376Z",
     "end_time": "2023-04-12T04:05:07.957236Z"
    }
   }
  },
  {
   "cell_type": "code",
   "execution_count": 4,
   "outputs": [
    {
     "name": "stdout",
     "output_type": "stream",
     "text": [
      "x_train: 2104 y_train: 2104\n",
      "x_test: 553 y_test: 553\n",
      "x_train_shape: (16384,)\n",
      "x_test_shape: (16384,)\n",
      "k =  1:  Accuracy: 0.0470  Precision: 0.1450  Recall: 0.0470  F1-score: 0.0408\n",
      "k =  3:  Accuracy: 0.0380  Precision: 0.2459  Recall: 0.0380  F1-score: 0.0319\n",
      "k =  5:  Accuracy: 0.0434  Precision: 0.1940  Recall: 0.0434  F1-score: 0.0316\n",
      "k =  7:  Accuracy: 0.0416  Precision: 0.1958  Recall: 0.0416  F1-score: 0.0258\n",
      "k =  9:  Accuracy: 0.0271  Precision: 0.1860  Recall: 0.0271  F1-score: 0.0167\n",
      "k = 11:  Accuracy: 0.0271  Precision: 0.2031  Recall: 0.0271  F1-score: 0.0214\n"
     ]
    }
   ],
   "source": [
    "from src.utils.load_data import load_data\n",
    "from src.utils.knn_test import knn\n",
    "\n",
    "#SIFT\n",
    "train_path = \"../data/embeddings/SIFT/train_SIFT_embeddings_id.npz\"\n",
    "test_path = \"../data/embeddings/SIFT/test_SIFT_embeddings_id.npz\"\n",
    "\n",
    "x_train, y_train, x_test, y_test = load_data(train_path=train_path, test_path=test_path)\n",
    "results = knn(x_train, y_train, x_test, y_test)\n",
    "\n",
    "for k, metrics in results.items():\n",
    "    print(\n",
    "        f\"k = {k:2d}:  Accuracy: {metrics['accuracy']:.4f}  Precision: {metrics['precision']:.4f}  Recall: {metrics['recall']:.4f}  F1-score: {metrics['f1']:.4f}\")"
   ],
   "metadata": {
    "collapsed": false,
    "ExecuteTime": {
     "start_time": "2023-04-12T04:06:29.133619Z",
     "end_time": "2023-04-12T04:06:34.457231Z"
    }
   }
  },
  {
   "cell_type": "code",
   "execution_count": null,
   "outputs": [],
   "source": [],
   "metadata": {
    "collapsed": false
   }
  }
 ],
 "metadata": {
  "kernelspec": {
   "display_name": "Python 3",
   "language": "python",
   "name": "python3"
  },
  "language_info": {
   "codemirror_mode": {
    "name": "ipython",
    "version": 2
   },
   "file_extension": ".py",
   "mimetype": "text/x-python",
   "name": "python",
   "nbconvert_exporter": "python",
   "pygments_lexer": "ipython2",
   "version": "2.7.6"
  }
 },
 "nbformat": 4,
 "nbformat_minor": 0
}
