{
 "cells": [
  {
   "cell_type": "code",
   "execution_count": 25,
   "outputs": [],
   "source": [
    "import pickle\n",
    "from src.extract_features.deep_learning_embeddings import embedding_vector_with_detect\n",
    "import cv2\n",
    "import numpy as np\n",
    "\n",
    "model_path = \"../../data/models/knn_5_cosine_distance_vggface.pkl\"\n",
    "\n",
    "# Load model\n",
    "with open(model_path, 'rb') as f:\n",
    "    knn_vgg_face_model = pickle.load(f)\n"
   ],
   "metadata": {
    "collapsed": false,
    "ExecuteTime": {
     "start_time": "2023-04-12T22:04:16.335091Z",
     "end_time": "2023-04-12T22:04:16.463109Z"
    }
   }
  },
  {
   "cell_type": "code",
   "execution_count": 40,
   "outputs": [
    {
     "name": "stdout",
     "output_type": "stream",
     "text": [
      "1/1 [==============================] - 0s 124ms/step\n",
      "1/1 [==============================] - 0s 65ms/step\n",
      "1/1 [==============================] - 0s 47ms/step\n",
      "1/1 [==============================] - 0s 39ms/step\n",
      "1/1 [==============================] - 0s 26ms/step\n",
      "1/1 [==============================] - 0s 28ms/step\n",
      "1/1 [==============================] - 0s 27ms/step\n",
      "1/1 [==============================] - 0s 21ms/step\n",
      "1/1 [==============================] - 0s 25ms/step\n",
      "1/1 [==============================] - 0s 23ms/step\n",
      "1/1 [==============================] - 0s 24ms/step\n",
      "1/1 [==============================] - 0s 23ms/step\n",
      "7/7 [==============================] - 0s 6ms/step\n",
      "1/1 [==============================] - 0s 29ms/step\n"
     ]
    }
   ],
   "source": [
    "# Load image\n",
    "image_path = \"../data/images_test_predict/022.jpg\"\n",
    "image = cv2.imread(image_path) # Sử dụng cv2 để đọc ảnh\n",
    "\n",
    "\n",
    "embeddings, facial_area = embedding_vector_with_detect(image_path,\n",
    "                                          model=\"VGG-Face\",\n",
    "                                          normalization=\"base\",\n",
    "                                          detector_backend=\"mtcnn\")\n",
    "\n",
    "embeddings = np.array(embeddings)\n"
   ],
   "metadata": {
    "collapsed": false,
    "ExecuteTime": {
     "start_time": "2023-04-12T22:06:01.722116Z",
     "end_time": "2023-04-12T22:06:03.662953Z"
    }
   }
  },
  {
   "cell_type": "code",
   "execution_count": 41,
   "outputs": [],
   "source": [
    "distances, indices = knn_vgg_face_model.kneighbors(embeddings)"
   ],
   "metadata": {
    "collapsed": false,
    "ExecuteTime": {
     "start_time": "2023-04-12T22:06:03.668201Z",
     "end_time": "2023-04-12T22:06:03.726839Z"
    }
   }
  },
  {
   "cell_type": "code",
   "execution_count": 42,
   "outputs": [
    {
     "name": "stdout",
     "output_type": "stream",
     "text": [
      "[[0.10608659 0.11541581 0.12729875 0.12865812 0.13791127]\n",
      " [0.19065133 0.19422946 0.19464411 0.2116589  0.21296745]]\n"
     ]
    }
   ],
   "source": [
    "print(distances)"
   ],
   "metadata": {
    "collapsed": false,
    "ExecuteTime": {
     "start_time": "2023-04-12T22:06:05.277573Z",
     "end_time": "2023-04-12T22:06:05.287444Z"
    }
   }
  },
  {
   "cell_type": "code",
   "execution_count": 43,
   "outputs": [
    {
     "name": "stdout",
     "output_type": "stream",
     "text": [
      "[[2048 2025 2035 2028 2027]\n",
      " [2004 1992 1962 1974 1967]]\n"
     ]
    }
   ],
   "source": [
    "print(indices)"
   ],
   "metadata": {
    "collapsed": false,
    "ExecuteTime": {
     "start_time": "2023-04-12T22:06:08.206394Z",
     "end_time": "2023-04-12T22:06:08.230791Z"
    }
   }
  },
  {
   "cell_type": "code",
   "execution_count": 46,
   "outputs": [
    {
     "name": "stdout",
     "output_type": "stream",
     "text": [
      "0.20217836199944322\n"
     ]
    }
   ],
   "source": [
    "# Tính toán ngưỡng threshold\n",
    "threshold = np.mean(distances) + np.std(distances)  # có thể tùy chỉnh hằng số 2\n",
    "print(threshold)"
   ],
   "metadata": {
    "collapsed": false,
    "ExecuteTime": {
     "start_time": "2023-04-12T22:06:43.431936Z",
     "end_time": "2023-04-12T22:06:43.452626Z"
    }
   }
  },
  {
   "cell_type": "code",
   "execution_count": 47,
   "outputs": [
    {
     "name": "stdout",
     "output_type": "stream",
     "text": [
      "['CE049' 'CE048']\n"
     ]
    }
   ],
   "source": [
    "if distances[0][0] <= threshold:\n",
    "    y_pred = knn_vgg_face_model.predict(embeddings)\n",
    "    print(y_pred)"
   ],
   "metadata": {
    "collapsed": false,
    "ExecuteTime": {
     "start_time": "2023-04-12T22:06:48.322721Z",
     "end_time": "2023-04-12T22:06:48.382542Z"
    }
   }
  },
  {
   "cell_type": "code",
   "execution_count": null,
   "metadata": {
    "collapsed": true
   },
   "outputs": [],
   "source": [
    "import numpy as np\n",
    "from sklearn.neighbors import KNeighborsClassifier\n",
    "from sklearn.preprocessing import StandardScaler\n",
    "from PIL import Image\n",
    "\n",
    "# Load bộ dữ liệu huấn luyện và chuyển đổi sang dạng ma trận\n",
    "X_train = np.load(\"X_train.npy\")\n",
    "y_train = np.load(\"y_train.npy\")\n",
    "\n",
    "# Tiền xử lý ảnh của người lạ và chuyển đổi sang dạng ma trận\n",
    "image_path = \"unknown_person.jpg\"\n",
    "image = Image.open(image_path)\n",
    "image = image.resize((64, 64)) # thay đổi kích thước\n",
    "image = np.array(image) # chuyển đổi sang mảng numpy\n",
    "X_test = image.reshape(1, -1)\n",
    "\n",
    "# Chuẩn hóa dữ liệu\n",
    "scaler = StandardScaler()\n",
    "X_train = scaler.fit_transform(X_train)\n",
    "X_test = scaler.transform(X_test)\n",
    "\n",
    "# Tính khoảng cách giữa ảnh của người lạ và các điểm dữ liệu trong bộ dữ liệu huấn luyện\n",
    "knn = KNeighborsClassifier(n_neighbors=5, metric='euclidean')\n",
    "knn.fit(X_train, y_train)\n",
    "distances, indices = knn.kneighbors(X_test)\n",
    "\n",
    "# Xác định ngưỡng\n",
    "threshold = np.mean(distances) + np.std(distances)\n",
    "\n",
    "# Phân loại người lạ\n",
    "if distances[0][0] > threshold:\n",
    "    print(\"Người này không thuộc nhóm người trong bộ dữ liệu đào tạo.\")\n",
    "else:\n",
    "    print(\"Người này thuộc nhóm người trong bộ dữ liệu đào tạo.\")\n"
   ]
  }
 ],
 "metadata": {
  "kernelspec": {
   "display_name": "Python 3",
   "language": "python",
   "name": "python3"
  },
  "language_info": {
   "codemirror_mode": {
    "name": "ipython",
    "version": 2
   },
   "file_extension": ".py",
   "mimetype": "text/x-python",
   "name": "python",
   "nbconvert_exporter": "python",
   "pygments_lexer": "ipython2",
   "version": "2.7.6"
  }
 },
 "nbformat": 4,
 "nbformat_minor": 0
}
