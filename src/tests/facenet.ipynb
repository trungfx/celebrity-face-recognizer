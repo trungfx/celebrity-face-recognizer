{
 "cells": [
  {
   "cell_type": "code",
   "execution_count": 7,
   "metadata": {
    "collapsed": true,
    "ExecuteTime": {
     "start_time": "2023-04-10T20:50:00.037621Z",
     "end_time": "2023-04-10T21:02:00.676619Z"
    }
   },
   "outputs": [],
   "source": [
    "import os\n",
    "import time\n",
    "from deepface import DeepFace\n",
    "import numpy as np\n",
    "import re\n",
    "\n",
    "# Thư mục chứa ảnh\n",
    "image_dir = \"../data/faces\"\n",
    "# image_dir = \"../data/images_crawl_more\"\n",
    "\n",
    "# Thư mục chứa embedding\n",
    "embedding_dir = \"../data/embeddings/facenet\"\n",
    "os.makedirs(embedding_dir, exist_ok=True)\n",
    "\n",
    "# Tạo danh sách embedding và nhãn\n",
    "data = []\n",
    "total_time = 0\n",
    "\n",
    "\n",
    "def number_label(folder_name):\n",
    "    parts = folder_name.split()\n",
    "    match = re.search(r'\\d+', folder_name)  # Tìm kiếm một chuỗi các số liên tiếp\n",
    "    if match:\n",
    "        number = int(match.group())  # Chuyển chuỗi số thành số nguyên\n",
    "        return number\n",
    "    return 0\n",
    "\n",
    "\n",
    "for i, folder in enumerate(os.listdir(image_dir)):\n",
    "    folder_path = os.path.join(image_dir, folder)\n",
    "    label = number_label(folder)\n",
    "    if label != 0:\n",
    "        for j, image in enumerate(os.listdir(folder_path)):\n",
    "            image_path = os.path.join(folder_path, image)\n",
    "\n",
    "            start_time = time.time()\n",
    "            embedding_objs = DeepFace.represent(img_path=image_path,\n",
    "                                                model_name=\"Facenet\",\n",
    "                                                detector_backend=\"skip\",\n",
    "                                                normalization=\"Facenet\"\n",
    "                                                )\n",
    "            end_time = time.time()\n",
    "\n",
    "            embedding = embedding_objs[0][\"embedding\"]\n",
    "            data.append([embedding, label])\n",
    "\n",
    "            image_time = end_time - start_time\n",
    "            total_time += image_time\n"
   ]
  },
  {
   "cell_type": "code",
   "execution_count": 8,
   "outputs": [
    {
     "name": "stdout",
     "output_type": "stream",
     "text": [
      "Tổng thời gian:  719.9692227840424\n",
      "Thời gian trung bình:  0.24031015446730386\n"
     ]
    }
   ],
   "source": [
    "print(\"Tổng thời gian: \", total_time)\n",
    "print(\"Thời gian trung bình: \", total_time / len(data))"
   ],
   "metadata": {
    "collapsed": false,
    "ExecuteTime": {
     "start_time": "2023-04-10T21:02:21.691637Z",
     "end_time": "2023-04-10T21:02:21.762011Z"
    }
   }
  },
  {
   "cell_type": "code",
   "execution_count": 9,
   "outputs": [],
   "source": [
    "# Chuyển embedding và label về dạng numpy array\n",
    "embedding = np.array([i[0] for i in data])\n",
    "label = np.array([i[1] for i in data])\n",
    "\n",
    "# Lưu embedding và label vào file numpy\n",
    "np_path = os.path.join(embedding_dir, \"facenet_embeddings.npz\")\n",
    "np.savez(np_path, embedding=embedding, label=label)\n"
   ],
   "metadata": {
    "collapsed": false,
    "ExecuteTime": {
     "start_time": "2023-04-10T21:02:29.682275Z",
     "end_time": "2023-04-10T21:02:29.751541Z"
    }
   }
  },
  {
   "cell_type": "code",
   "execution_count": 10,
   "outputs": [],
   "source": [
    "# Load lại file numpy đã lưu\n",
    "npzfile = np.load(np_path)\n",
    "X = npzfile['embedding']\n",
    "y = npzfile['label']\n"
   ],
   "metadata": {
    "collapsed": false,
    "ExecuteTime": {
     "start_time": "2023-04-10T21:02:33.670607Z",
     "end_time": "2023-04-10T21:02:33.717378Z"
    }
   }
  },
  {
   "cell_type": "code",
   "execution_count": 11,
   "outputs": [
    {
     "name": "stdout",
     "output_type": "stream",
     "text": [
      "(128,)\n"
     ]
    }
   ],
   "source": [
    "# Số chiều của embedding\n",
    "print(X[0].shape)"
   ],
   "metadata": {
    "collapsed": false,
    "ExecuteTime": {
     "start_time": "2023-04-10T21:02:37.353688Z",
     "end_time": "2023-04-10T21:02:37.392462Z"
    }
   }
  },
  {
   "cell_type": "code",
   "execution_count": 12,
   "outputs": [
    {
     "name": "stdout",
     "output_type": "stream",
     "text": [
      "2\n"
     ]
    }
   ],
   "source": [
    "print(y[0])"
   ],
   "metadata": {
    "collapsed": false,
    "ExecuteTime": {
     "start_time": "2023-04-10T21:02:38.543283Z",
     "end_time": "2023-04-10T21:02:38.568081Z"
    }
   }
  },
  {
   "cell_type": "code",
   "execution_count": 13,
   "outputs": [
    {
     "name": "stdout",
     "output_type": "stream",
     "text": [
      "[-0.81386149 -0.05417676 -0.62850678 -1.23356128  0.54043865 -0.0864271\n",
      " -0.26852351  0.06079911  0.46585014 -1.43951833  0.40372077  0.69399488\n",
      " -1.07312429 -0.35968649 -0.64232469 -0.04165528  0.89388692  0.5503059\n",
      "  1.35323703 -1.47094774 -0.00472979 -0.30502841  0.02967125 -0.55808085\n",
      "  0.094349    0.23992088 -0.56521392  0.4882929  -0.96084297 -0.11205681\n",
      " -1.04399836 -0.17743258 -0.63659424  1.12515652  0.72030717  0.55721205\n",
      "  1.13090026  1.20244181  0.19156627 -0.45205238 -0.39999533  0.91191185\n",
      " -0.1335371   0.59705615 -0.27196127  0.46465051  0.25418884 -1.23794067\n",
      "  0.62014055  0.05965944 -0.30330485  0.47378272  1.03299248 -2.05963159\n",
      "  1.10587835  0.9704262  -0.87469745 -0.13092984  1.69191134  0.05915951\n",
      "  0.64405644  1.63795114 -1.017169   -0.45787627 -0.03094063  2.06477451\n",
      " -0.26276085  1.52324009  0.4311856   0.0934672   0.81275231  0.29574525\n",
      " -1.12206697 -1.75617445 -0.20406961  1.92101383 -0.63456845  0.20675838\n",
      " -0.58698922 -1.09954798 -0.81339949  0.56008375 -1.16032946  0.3542946\n",
      "  0.01672953  0.07901957  0.13337506  0.76386899 -0.41934913  0.43620694\n",
      "  0.60060549 -0.15871695 -0.53804511 -0.02830034  0.04746649 -0.1232128\n",
      "  0.2951256  -0.55528337  0.4174751   2.09993243  1.06992805 -0.68609762\n",
      "  0.07424531 -1.41740656 -0.64051133  0.47671634  0.22749585 -0.19028652\n",
      " -1.13912058 -0.36735517  0.57745671 -0.27954429 -0.01130245  0.35910675\n",
      "  0.0558577   0.6267308  -0.75117898  0.74773556  0.58556521  1.21296322\n",
      "  0.04676642  0.98213685  0.07886781 -0.29300869  0.63299602 -1.12094271\n",
      "  1.41560841 -1.39349258]\n"
     ]
    }
   ],
   "source": [
    "print(X[0])"
   ],
   "metadata": {
    "collapsed": false,
    "ExecuteTime": {
     "start_time": "2023-04-10T21:02:39.951477Z",
     "end_time": "2023-04-10T21:02:40.022000Z"
    }
   }
  },
  {
   "cell_type": "code",
   "execution_count": 14,
   "outputs": [
    {
     "name": "stdout",
     "output_type": "stream",
     "text": [
      "2996 2996\n"
     ]
    }
   ],
   "source": [
    "# Số embedding và nhãn\n",
    "print(len(X), len(y))"
   ],
   "metadata": {
    "collapsed": false,
    "ExecuteTime": {
     "start_time": "2023-04-10T21:02:46.009668Z",
     "end_time": "2023-04-10T21:02:46.033197Z"
    }
   }
  },
  {
   "cell_type": "code",
   "execution_count": null,
   "outputs": [],
   "source": [],
   "metadata": {
    "collapsed": false
   }
  }
 ],
 "metadata": {
  "kernelspec": {
   "display_name": "Python 3",
   "language": "python",
   "name": "python3"
  },
  "language_info": {
   "codemirror_mode": {
    "name": "ipython",
    "version": 2
   },
   "file_extension": ".py",
   "mimetype": "text/x-python",
   "name": "python",
   "nbconvert_exporter": "python",
   "pygments_lexer": "ipython2",
   "version": "2.7.6"
  }
 },
 "nbformat": 4,
 "nbformat_minor": 0
}
