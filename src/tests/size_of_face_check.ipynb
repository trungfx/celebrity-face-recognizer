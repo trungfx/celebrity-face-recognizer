{
 "cells": [
  {
   "cell_type": "markdown",
   "source": [
    "TÌM HIỂU KÍCH THƯỚC KHUÔN MẶT TRONG BỘ DỮ LIỆU"
   ],
   "metadata": {
    "collapsed": false
   }
  },
  {
   "cell_type": "code",
   "execution_count": 1,
   "metadata": {
    "collapsed": true,
    "ExecuteTime": {
     "start_time": "2023-04-10T07:51:40.718915Z",
     "end_time": "2023-04-10T07:51:40.859127Z"
    }
   },
   "outputs": [
    {
     "name": "stdout",
     "output_type": "stream",
     "text": [
      "Số lượng tệp hình ảnh:  3007\n"
     ]
    }
   ],
   "source": [
    "import os\n",
    "\n",
    "# Thư mục chứa ảnh\n",
    "image_dir = \"../data/images\"\n",
    "image_paths = []\n",
    "\n",
    "# Duyệt qua các thư mục con và thêm đường dẫn các tệp hình ảnh vào danh sách\n",
    "for root, dirs, files in os.walk(image_dir):\n",
    "    for file in files:\n",
    "        # Kiểm tra nếu tệp là một tệp hình ảnh\n",
    "        if os.path.splitext(file)[1].lower() in ('.jpg', '.jpeg', '.png'):\n",
    "            image_path = os.path.join(root, file)\n",
    "            image_paths.append(image_path)\n",
    "\n",
    "# In số lượng tệp hình ảnh\n",
    "print(\"Số lượng tệp hình ảnh: \", len(image_paths))"
   ]
  },
  {
   "cell_type": "code",
   "execution_count": 10,
   "outputs": [
    {
     "name": "stderr",
     "output_type": "stream",
     "text": [
      "100%|██████████| 3007/3007 [03:24<00:00, 14.69it/s]\n"
     ]
    }
   ],
   "source": [
    "from deepface import DeepFace\n",
    "from tqdm import tqdm\n",
    "\n",
    "widths = []\n",
    "heights = []\n",
    "\n",
    "for path in tqdm(image_paths):\n",
    "    results = DeepFace.extract_faces(img_path=path, detector_backend='ssd', enforce_detection=False, align=False)\n",
    "    if len(results) > 0 and results[0]['confidence'] > 0:\n",
    "        w = results[0]['facial_area']['w']\n",
    "        h = results[0]['facial_area']['h']\n",
    "        widths.append(w)\n",
    "        heights.append(h)\n",
    "        # print(\"({}x{})\".format(w, h))"
   ],
   "metadata": {
    "collapsed": false,
    "ExecuteTime": {
     "start_time": "2023-04-10T08:03:04.300616Z",
     "end_time": "2023-04-10T08:06:29.016714Z"
    }
   }
  },
  {
   "cell_type": "code",
   "execution_count": 11,
   "outputs": [
    {
     "name": "stdout",
     "output_type": "stream",
     "text": [
      "Chiều rộng: Min=43, Max=1872, Mean=227\n",
      "Chiều cao: Min=54, Max=2752, Mean=303\n"
     ]
    }
   ],
   "source": [
    "import numpy as np\n",
    "\n",
    "# Tính toán min, max, trung bình cho chiều rộng và chiều cao\n",
    "min_width = np.min(widths)\n",
    "max_width = np.max(widths)\n",
    "mean_width = np.mean(widths)\n",
    "min_height = np.min(heights)\n",
    "max_height = np.max(heights)\n",
    "mean_height = np.mean(heights)\n",
    "\n",
    "# In kết quả\n",
    "print(\"Chiều rộng: Min={}, Max={}, Mean={}\".format(min_width, max_width, round(mean_width)))\n",
    "print(\"Chiều cao: Min={}, Max={}, Mean={}\".format(min_height, max_height, round(mean_height)))"
   ],
   "metadata": {
    "collapsed": false,
    "ExecuteTime": {
     "start_time": "2023-04-10T08:06:35.554144Z",
     "end_time": "2023-04-10T08:06:35.578185Z"
    }
   }
  },
  {
   "cell_type": "code",
   "execution_count": 22,
   "outputs": [
    {
     "data": {
      "text/plain": "<Figure size 640x480 with 1 Axes>",
      "image/png": "[encoded data removed]"
     },
     "metadata": {},
     "output_type": "display_data"
    }
   ],
   "source": [
    "import matplotlib.pyplot as plt\n",
    "\n",
    "bins = range(100, 500, 10)\n",
    "\n",
    "# Vẽ histogram cho widths và đặt màu là đỏ (red)\n",
    "plt.hist(widths, bins=bins, color='red', alpha=0.5, label='Widths')\n",
    "\n",
    "# Vẽ histogram cho heights và đặt màu là xanh (blue)\n",
    "plt.hist(heights, bins=bins, color='blue', alpha=0.5, label='Heights')\n",
    "\n",
    "plt.xlabel(\"Kích thước (đơn vị pixel)\")\n",
    "plt.ylabel(\"Tần suất\")\n",
    "plt.legend()\n",
    "plt.show()\n"
   ],
   "metadata": {
    "collapsed": false,
    "ExecuteTime": {
     "start_time": "2023-04-10T08:36:59.578941Z",
     "end_time": "2023-04-10T08:37:00.027951Z"
    }
   }
  },
  {
   "cell_type": "code",
   "execution_count": 23,
   "outputs": [
    {
     "name": "stdout",
     "output_type": "stream",
     "text": [
      "Số lượng ảnh:  2996\n",
      "Số lượng thư mục con:  135\n",
      "Số lượng thư mục rỗng:  0\n",
      "Số lượng ảnh tối đa:  41\n",
      "Số lượng ảnh tối thiểu:  15\n",
      "Số lượng ảnh trung bình:  22\n"
     ]
    }
   ],
   "source": [
    "# Xem số lượng ảnh và phân bố trong bộ dữ liệu\n",
    "\n",
    "import os\n",
    "import matplotlib.pyplot as plt\n",
    "import numpy as np\n",
    "\n",
    "# Thư mục chứa các thư mục ảnh\n",
    "image_dir = \"../data/faces\"\n",
    "\n",
    "# Đếm số lượng ảnh và thư mục con\n",
    "num_images = 0\n",
    "num_folders = 0\n",
    "empty_folders = 0\n",
    "image_counts = []\n",
    "for folder in os.listdir(image_dir):\n",
    "    if os.path.isdir(os.path.join(image_dir, folder)):\n",
    "        folder_images = len(os.listdir(os.path.join(image_dir, folder)))\n",
    "        if folder_images > 0:\n",
    "            num_folders += 1\n",
    "        else:\n",
    "            empty_folders += 1\n",
    "        image_counts.append(folder_images)\n",
    "        num_images += folder_images\n",
    "\n",
    "print(\"Số lượng ảnh: \", num_images)\n",
    "print(\"Số lượng thư mục con: \", num_folders)\n",
    "print(\"Số lượng thư mục rỗng: \", empty_folders)\n",
    "\n",
    "# Lọc các thư mục không chứa ảnh\n",
    "non_empty_counts = [count for count in image_counts if count > 0]\n",
    "\n",
    "max_images = max(non_empty_counts)\n",
    "min_images = min(non_empty_counts)\n",
    "avg_images = np.mean(non_empty_counts)\n",
    "\n",
    "print(\"Số lượng ảnh tối đa: \", max_images)\n",
    "print(\"Số lượng ảnh tối thiểu: \", min_images)\n",
    "print(\"Số lượng ảnh trung bình: \", round(avg_images))\n"
   ],
   "metadata": {
    "collapsed": false,
    "ExecuteTime": {
     "start_time": "2023-04-10T17:15:03.858095Z",
     "end_time": "2023-04-10T17:15:04.031306Z"
    }
   }
  },
  {
   "cell_type": "code",
   "execution_count": 3,
   "outputs": [],
   "source": [
    "# đổi tên tệp hàng loạt\n",
    "import os\n",
    "\n",
    "# Thư mục chứa ảnh\n",
    "image_dir = \"../data/faces\"\n",
    "\n",
    "for i, folder in enumerate(os.listdir(image_dir)):\n",
    "    folder_path = os.path.join(image_dir, folder)\n",
    "    for j, image in enumerate(os.listdir(folder_path)):\n",
    "        # Tạo tên mới cho tệp\n",
    "        new_name = \"{}-{:03d}{}\".format(folder, j + 1, os.path.splitext(image)[-1])\n",
    "        # Tạo đường dẫn mới cho tệp\n",
    "        new_path = os.path.join(folder_path, new_name)\n",
    "        # Đổi tên tệp\n",
    "        os.rename(os.path.join(folder_path, image), new_path)\n"
   ],
   "metadata": {
    "collapsed": false,
    "ExecuteTime": {
     "start_time": "2023-04-10T22:29:37.036341Z",
     "end_time": "2023-04-10T22:29:37.767142Z"
    }
   }
  },
  {
   "cell_type": "code",
   "execution_count": null,
   "outputs": [],
   "source": [],
   "metadata": {
    "collapsed": false
   }
  }
 ],
 "metadata": {
  "kernelspec": {
   "display_name": "Python 3",
   "language": "python",
   "name": "python3"
  },
  "language_info": {
   "codemirror_mode": {
    "name": "ipython",
    "version": 2
   },
   "file_extension": ".py",
   "mimetype": "text/x-python",
   "name": "python",
   "nbconvert_exporter": "python",
   "pygments_lexer": "ipython2",
   "version": "2.7.6"
  }
 },
 "nbformat": 4,
 "nbformat_minor": 0
}
