{
 "cells": [
  {
   "cell_type": "code",
   "execution_count": null,
   "metadata": {
    "collapsed": true
   },
   "outputs": [],
   "source": []
  },
  {
   "cell_type": "markdown",
   "source": [
    "TẢI THÊM ẢNH TỪ INTERNET XUỐNG VỚI NHỮNG NGƯỜI NỔI TIẾNG CÓ ẢNH DƯỚI 15 ẢNH"
   ],
   "metadata": {
    "collapsed": false
   }
  },
  {
   "cell_type": "code",
   "execution_count": null,
   "outputs": [],
   "source": [
    "def get_image(_id, description, name, article):\n",
    "    import os\n",
    "    from icrawler.builtin import GoogleImageCrawler\n",
    "\n",
    "    # tạo thư mục với tên là _id\n",
    "    dir_path = os.path.join('../data', 'images_crawl_more', str(_id) + \" - \" + name)\n",
    "    os.makedirs(dir_path, exist_ok=True)\n",
    "\n",
    "    # crawl images và lưu vào thư mục trên\n",
    "    google_crawler = GoogleImageCrawler(\n",
    "        feeder_threads=1,\n",
    "        parser_threads=1,\n",
    "        downloader_threads=8,\n",
    "        storage={'root_dir': dir_path}\n",
    "    )\n",
    "    filters = dict(\n",
    "        type='face',\n",
    "        color='color'\n",
    "    )\n",
    "    try:\n",
    "        google_crawler.crawl(\n",
    "            keyword=description + ' ' + name + ' ' + article,\n",
    "            filters=filters,\n",
    "            max_num=200,\n",
    "            min_size=(50, 50),\n",
    "            file_idx_offset='auto'\n",
    "        )\n",
    "    except Exception as e:\n",
    "        print(f\"Error while crawling images for {name}: {e}\")\n"
   ],
   "metadata": {
    "collapsed": false
   }
  },
  {
   "cell_type": "code",
   "execution_count": null,
   "outputs": [],
   "source": [
    "import os\n",
    "\n",
    "# tìm thu muc chứa ít hơn 15 ảnh\n",
    "image_path = \"../data/images\"\n",
    "id_list = []\n",
    "for folder in os.listdir(image_path):\n",
    "    folder_path = os.path.join(image_path, folder)\n",
    "    count = 0\n",
    "    for image in os.listdir(folder_path):\n",
    "        count += 1\n",
    "    if count < 15:\n",
    "        id_list.append(folder)"
   ],
   "metadata": {
    "collapsed": false
   }
  },
  {
   "cell_type": "code",
   "execution_count": null,
   "outputs": [],
   "source": [
    "print(id_list)"
   ],
   "metadata": {
    "collapsed": false
   }
  },
  {
   "cell_type": "code",
   "execution_count": null,
   "outputs": [],
   "source": [
    "import json\n",
    "from tqdm import tqdm\n",
    "\n",
    "# load data từ json\n",
    "with open('../data/json/vietnam_celeb.json', 'r', encoding='utf-8') as f:\n",
    "    celeb = json.load(f)\n",
    "\n",
    "# Lặp qua danh sách các id trong id_list\n",
    "for id in tqdm(id_list):\n",
    "    # Tìm phần tử có id tương ứng trong danh sách celeb\n",
    "    celeb_info = next((item for item in celeb if item[\"id\"] == id), None)\n",
    "    if celeb_info is not None:\n",
    "        # Nếu tìm thấy phần tử, in ra thông tin \"name\", \"description\", \"article\"\n",
    "        name = celeb_info.get(\"name\", \"\")\n",
    "        description = celeb_info.get(\"description\", \"\")\n",
    "        article = celeb_info.get(\"article\", \"\")\n",
    "\n",
    "        # Thực hiện lấy ảnh từ google image\n",
    "        get_image(id, description, name, article)"
   ],
   "metadata": {
    "collapsed": false
   }
  },
  {
   "cell_type": "markdown",
   "source": [
    "EXTRACT FACE"
   ],
   "metadata": {
    "collapsed": false
   }
  },
  {
   "cell_type": "code",
   "execution_count": null,
   "outputs": [],
   "source": [
    "import os\n",
    "import cv2\n",
    "from deepface import DeepFace\n",
    "from tqdm import tqdm\n",
    "import time\n",
    "import re\n",
    "\n",
    "\n",
    "def extract_faces(img_path, save_path, file_name):\n",
    "    results = DeepFace.extract_faces(\n",
    "        img_path=img_path,\n",
    "        target_size=(224, 224),\n",
    "        detector_backend='mtcnn',\n",
    "        enforce_detection=False,\n",
    "        align=True\n",
    "    )\n",
    "    if len(results) > 0:\n",
    "        if results[0]['confidence'] > 0:\n",
    "            face = results[0]['face']\n",
    "            face = (face * 255).astype('uint8')\n",
    "            rgb_image = cv2.cvtColor(face, cv2.COLOR_BGR2RGB)\n",
    "            os.makedirs(save_path, exist_ok=True)\n",
    "            cv2.imwrite(os.path.join(save_path, file_name.split(\".\")[0] + \".jpg\"), rgb_image)\n",
    "\n",
    "\n",
    "def number_label(folder_name):\n",
    "    match = re.search(r'\\d+', folder_name)  # Tìm kiếm một chuỗi các số liên tiếp\n",
    "    if match:\n",
    "        number = int(match.group())  # Chuyển chuỗi số thành số nguyên\n",
    "        return number\n",
    "    return 0\n",
    "\n",
    "\n",
    "# Thư mục chứa ảnh\n",
    "image_dir = \"../data/images_crawl\"\n",
    "face_dir = \"../data/images_face\"\n",
    "\n",
    "star_time = time.time()\n",
    "# duyệt qua cac thu mục con\n",
    "for folder in tqdm(os.listdir(image_dir), position=0):\n",
    "    number = number_label(folder)\n",
    "    if number > 0:  # tuỳ chỉnh đề tiếp tục khi gặp lỗi\n",
    "        folder_path = os.path.join(image_dir, folder)\n",
    "        face_path = os.path.join(face_dir, folder)\n",
    "        for image in tqdm(os.listdir(folder_path), position=1, leave=False):\n",
    "            image_path = os.path.join(folder_path, image)\n",
    "            extract_faces(image_path, face_path, image)\n",
    "end_time = time.time()\n",
    "print(\"Đã làm xong! \", \"- Thời gian:\", round(end_time - star_time, 3))"
   ],
   "metadata": {
    "collapsed": false
   }
  },
  {
   "cell_type": "code",
   "execution_count": null,
   "outputs": [],
   "source": [],
   "metadata": {
    "collapsed": false
   }
  },
  {
   "cell_type": "code",
   "execution_count": null,
   "outputs": [],
   "source": [
    "import numpy as np\n",
    "\n",
    "\n",
    "def load_data(train_path, test_path):\n",
    "    # load file train\n",
    "    npzfile = np.load(train_path)\n",
    "    x_train = npzfile['embedding']\n",
    "    y_train = npzfile['label']\n",
    "\n",
    "    #load file test\n",
    "    npzfile = np.load(test_path)\n",
    "    x_test = npzfile['embedding']\n",
    "    y_test = npzfile['label']\n",
    "\n",
    "    #show info\n",
    "    print(\"X_train:\", len(x_train), \"y_train:\", len(y_train))\n",
    "    print(\"X_test:\", len(x_test), \"y_test:\", len(y_test))\n",
    "    print(\"Shape:\", x_train[0].shape)\n",
    "\n",
    "    return x_train, y_train, x_test, y_test"
   ],
   "metadata": {
    "collapsed": false
   }
  },
  {
   "cell_type": "code",
   "execution_count": null,
   "outputs": [],
   "source": [
    "from sklearn.neighbors import KNeighborsClassifier\n",
    "from sklearn.metrics import accuracy_score, precision_score, recall_score, f1_score\n",
    "\n",
    "\n",
    "def knn(x_train, y_train, x_test, y_test):\n",
    "    k_neighbors = [1, 3, 5, 7, 9, 11]\n",
    "    for k in k_neighbors:\n",
    "        classifier = KNeighborsClassifier(metric=\"cosine\", n_neighbors=3)\n",
    "        classifier.fit(x_train, y_train)\n",
    "        y_pred = classifier.predict(x_test)\n",
    "\n",
    "        # Tính toán các độ đo hiệu suất\n",
    "        acc = accuracy_score(y_test, y_pred)\n",
    "        prec = precision_score(y_test, y_pred, average='weighted', zero_division=1)\n",
    "        rec = recall_score(y_test, y_pred, average='weighted', zero_division=1)\n",
    "        f1 = f1_score(y_test, y_pred, average='weighted')\n",
    "\n",
    "        print(f\"k = {k}:\")\n",
    "        print(f\"  Accuracy: {acc:.4f}\")\n",
    "        print(f\"  Precision: {prec:.4f}\")\n",
    "        print(f\"  Recall: {rec:.4f}\")\n",
    "        print(f\"  F1-score: {f1:.4f}\")"
   ],
   "metadata": {
    "collapsed": false
   }
  },
  {
   "cell_type": "code",
   "execution_count": null,
   "outputs": [],
   "source": [
    "#Facenet\n",
    "train_path = \"../data/embeddings/Facenet/train_facenet_embeddings.npz\"\n",
    "test_path = \"../data/embeddings/Facenet/test_facenet_embeddings.npz\"\n",
    "\n",
    "x_train, y_train, x_test, y_test = load_data(train_path, test_path)\n",
    "knn(x_train, y_train, x_test, y_test)"
   ],
   "metadata": {
    "collapsed": false
   }
  },
  {
   "cell_type": "code",
   "execution_count": null,
   "outputs": [],
   "source": [
    "#Facenet512\n",
    "train_path = \"../data/embeddings/Facenet512/train_Facenet512_embeddings.npz\"\n",
    "test_path = \"../data/embeddings/Facenet512/test_Facenet512_embeddings.npz\"\n",
    "\n",
    "x_train, y_train, x_test, y_test = load_data(train_path, test_path)\n",
    "knn(x_train, y_train, x_test, y_test)"
   ],
   "metadata": {
    "collapsed": false
   }
  },
  {
   "cell_type": "code",
   "execution_count": null,
   "outputs": [],
   "source": [
    "#VGG-Face\n",
    "train_path = \"../data/embeddings/VGG-Face/train_VGG-Face_embeddings.npz\"\n",
    "test_path = \"../data/embeddings/VGG-Face/test_VGG-Face_embeddings.npz\"\n",
    "\n",
    "x_train, y_train, x_test, y_test = load_data(train_path, test_path)\n",
    "knn(x_train, y_train, x_test, y_test)"
   ],
   "metadata": {
    "collapsed": false
   }
  },
  {
   "cell_type": "code",
   "execution_count": null,
   "outputs": [],
   "source": [
    "#ArcFace\n",
    "train_path = \"../data/embeddings/ArcFace/train_ArcFace_embeddings.npz\"\n",
    "test_path = \"../data/embeddings/ArcFace/test_ArcFace_embeddings.npz\"\n",
    "\n",
    "x_train, y_train, x_test, y_test = load_data(train_path, test_path)\n",
    "knn(x_train, y_train, x_test, y_test)"
   ],
   "metadata": {
    "collapsed": false
   }
  },
  {
   "cell_type": "code",
   "execution_count": null,
   "outputs": [],
   "source": [
    "#SFace\n",
    "train_path = \"../data/embeddings/SFace/train_SFace_embeddings.npz\"\n",
    "test_path = \"../data/embeddings/SFace/test_SFace_embeddings.npz\"\n",
    "\n",
    "x_train, y_train, x_test, y_test = load_data(train_path, test_path)\n",
    "knn(x_train, y_train, x_test, y_test)"
   ],
   "metadata": {
    "collapsed": false
   }
  }
 ],
 "metadata": {
  "kernelspec": {
   "display_name": "Python 3",
   "language": "python",
   "name": "python3"
  },
  "language_info": {
   "codemirror_mode": {
    "name": "ipython",
    "version": 2
   },
   "file_extension": ".py",
   "mimetype": "text/x-python",
   "name": "python",
   "nbconvert_exporter": "python",
   "pygments_lexer": "ipython2",
   "version": "2.7.6"
  }
 },
 "nbformat": 4,
 "nbformat_minor": 0
}
