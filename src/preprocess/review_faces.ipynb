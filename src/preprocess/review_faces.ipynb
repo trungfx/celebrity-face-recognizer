{
 "cells": [
  {
   "cell_type": "code",
   "execution_count": 1,
   "metadata": {
    "collapsed": true,
    "ExecuteTime": {
     "start_time": "2023-04-11T12:20:15.791253Z",
     "end_time": "2023-04-11T12:20:16.074427Z"
    }
   },
   "outputs": [
    {
     "name": "stdout",
     "output_type": "stream",
     "text": [
      "Số lượng ảnh:  2657\n",
      "Số lượng thư mục con:  50\n",
      "Số lượng ảnh tối đa:  77\n",
      "Số lượng ảnh tối thiểu:  27\n",
      "Số lượng ảnh trung bình:  53\n"
     ]
    }
   ],
   "source": [
    "# Xem số lượng ảnh và phân bố trong bộ dữ liệu\n",
    "\n",
    "import os\n",
    "import numpy as np\n",
    "\n",
    "# Thư mục chứa ảnh khuôn mặt\n",
    "image_dir = \"../data/images_face\"\n",
    "\n",
    "# Đếm số lượng ảnh và thư mục con\n",
    "num_images = 0\n",
    "num_folders = 0\n",
    "image_counts = []\n",
    "for folder in os.listdir(image_dir):\n",
    "    if os.path.isdir(os.path.join(image_dir, folder)):\n",
    "        num_folders += 1\n",
    "        folder_images = len(os.listdir(os.path.join(image_dir, folder)))\n",
    "        image_counts.append(folder_images)\n",
    "        num_images += folder_images\n",
    "\n",
    "max_images = max(image_counts)\n",
    "min_images = min(image_counts)\n",
    "avg_images = np.mean(image_counts)\n",
    "\n",
    "print(\"Số lượng ảnh: \", num_images)\n",
    "print(\"Số lượng thư mục con: \", num_folders)\n",
    "print(\"Số lượng ảnh tối đa: \", max_images)\n",
    "print(\"Số lượng ảnh tối thiểu: \", min_images)\n",
    "print(\"Số lượng ảnh trung bình: \", round(avg_images))\n"
   ]
  },
  {
   "cell_type": "code",
   "execution_count": 20,
   "outputs": [
    {
     "data": {
      "text/plain": "<Figure size 640x480 with 1 Axes>",
      "image/png": "[encoded data removed]"
     },
     "metadata": {},
     "output_type": "display_data"
    }
   ],
   "source": [
    "import numpy as np\n",
    "import matplotlib.pyplot as plt\n",
    "\n",
    "# Vẽ histogram\n",
    "bins = range(25, 85, 5)\n",
    "plt.hist(image_counts, bins=bins)\n",
    "\n",
    "# Chỉ định giá trị nguyên cho cột x và y\n",
    "plt.xticks(np.arange(25, 81, step=5))\n",
    "plt.yticks(np.arange(0, 13, step=2))\n",
    "\n",
    "# Đặt tên cho trục x, y và tiêu đề\n",
    "plt.xlabel(\"Số lượng ảnh\")\n",
    "plt.ylabel(\"Tần xuất\")\n",
    "# plt.title(\"Phân bố số lượng ảnh\")\n",
    "\n",
    "# Ghi số lượng lên đầu mỗi bin\n",
    "for i in range(len(bins) - 1):\n",
    "    bin_count = np.sum((np.array(image_counts) >= bins[i]) & (np.array(image_counts) < bins[i + 1]))\n",
    "    if bin_count > 0:\n",
    "        plt.text(bins[i] + 2.3, bin_count + 0.2, str(bin_count), ha='center')\n",
    "\n",
    "plt.show()\n"
   ],
   "metadata": {
    "collapsed": false,
    "ExecuteTime": {
     "start_time": "2023-04-11T12:28:07.408764Z",
     "end_time": "2023-04-11T12:28:07.609786Z"
    }
   }
  },
  {
   "cell_type": "code",
   "execution_count": 9,
   "outputs": [],
   "source": [],
   "metadata": {
    "collapsed": false,
    "ExecuteTime": {
     "start_time": "2023-04-11T12:18:28.826048Z",
     "end_time": "2023-04-11T12:18:28.865804Z"
    }
   }
  }
 ],
 "metadata": {
  "kernelspec": {
   "display_name": "Python 3",
   "language": "python",
   "name": "python3"
  },
  "language_info": {
   "codemirror_mode": {
    "name": "ipython",
    "version": 2
   },
   "file_extension": ".py",
   "mimetype": "text/x-python",
   "name": "python",
   "nbconvert_exporter": "python",
   "pygments_lexer": "ipython2",
   "version": "2.7.6"
  }
 },
 "nbformat": 4,
 "nbformat_minor": 0
}
