{
 "cells": [
  {
   "cell_type": "markdown",
   "source": [
    "XEM CÁC THÔNG TIN CỦA THƯ MỤC ẢNH VỪA CRAWL VỀ"
   ],
   "metadata": {
    "collapsed": false
   }
  },
  {
   "cell_type": "code",
   "execution_count": 1,
   "outputs": [
    {
     "name": "stdout",
     "output_type": "stream",
     "text": [
      "Số lượng ảnh:  4264\n",
      "Số lượng thư mục con:  50\n",
      "Số lượng ảnh tối đa:  104\n",
      "Số lượng ảnh tối thiểu:  47\n",
      "Số lượng ảnh trung bình:  85\n"
     ]
    }
   ],
   "source": [
    "# Xem số lượng ảnh và phân bố trong bộ dữ liệu\n",
    "\n",
    "import os\n",
    "import matplotlib.pyplot as plt\n",
    "import numpy as np\n",
    "\n",
    "# Thư mục chứa ảnh\n",
    "image_dir = \"../data/images_crawl\"\n",
    "\n",
    "# Đếm số lượng ảnh và thư mục con\n",
    "num_images = 0\n",
    "num_folders = 0\n",
    "image_counts = []\n",
    "for folder in os.listdir(image_dir):\n",
    "    if os.path.isdir(os.path.join(image_dir, folder)):\n",
    "        num_folders += 1\n",
    "        folder_images = len(os.listdir(os.path.join(image_dir, folder)))\n",
    "        image_counts.append(folder_images)\n",
    "        num_images += folder_images\n",
    "\n",
    "max_images = max(image_counts)\n",
    "min_images = min(image_counts)\n",
    "avg_images = np.mean(image_counts)\n",
    "\n",
    "print(\"Số lượng ảnh: \", num_images)\n",
    "print(\"Số lượng thư mục con: \", num_folders)\n",
    "print(\"Số lượng ảnh tối đa: \", max_images)\n",
    "print(\"Số lượng ảnh tối thiểu: \", min_images)\n",
    "print(\"Số lượng ảnh trung bình: \", round(avg_images))\n"
   ],
   "metadata": {
    "collapsed": false,
    "ExecuteTime": {
     "start_time": "2023-04-11T03:15:47.206952Z",
     "end_time": "2023-04-11T03:15:47.964885Z"
    }
   }
  },
  {
   "cell_type": "markdown",
   "source": [
    "KIỂM TRA CÁC ĐỊNH DẠNG ẢNH HIỆN CÓ TRONG BỘ DỮ LIỆU"
   ],
   "metadata": {
    "collapsed": false
   }
  },
  {
   "cell_type": "code",
   "execution_count": 2,
   "outputs": [
    {
     "name": "stdout",
     "output_type": "stream",
     "text": [
      "Số lượng ảnh của mỗi định dạng ảnh:\n",
      "JPEG 3987\n",
      "PNG 266\n",
      "WEBP 8\n",
      "GIF 2\n",
      "MPO 1\n"
     ]
    }
   ],
   "source": [
    "# Xem các định dạng của ảnh trong bộ dữ liệu\n",
    "\n",
    "from PIL import Image\n",
    "import os\n",
    "\n",
    "# Thư mục chứa ảnh\n",
    "image_dir = \"../data/images_crawl\"\n",
    "\n",
    "# Khởi tạo từ điển lưu trữ số lượng ảnh của mỗi định dạng ảnh\n",
    "image_counts = {}\n",
    "\n",
    "# Lấy danh sách các định dạng ảnh\n",
    "formats = set()\n",
    "for root, dirs, files in os.walk(image_dir):\n",
    "    for file in files:\n",
    "        img_path = os.path.join(root, file)\n",
    "        with Image.open(img_path) as img:\n",
    "            fmt = img.format\n",
    "            if fmt in image_counts:\n",
    "                image_counts[fmt] += 1\n",
    "            else:\n",
    "                image_counts[fmt] = 1\n",
    "\n",
    "# In ra số lượng ảnh của mỗi định dạng ảnh\n",
    "print(\"Số lượng ảnh của mỗi định dạng ảnh:\")\n",
    "for fmt, count in image_counts.items():\n",
    "    print(fmt, count)\n"
   ],
   "metadata": {
    "collapsed": false,
    "ExecuteTime": {
     "start_time": "2023-04-11T03:15:55.963008Z",
     "end_time": "2023-04-11T03:15:59.138154Z"
    }
   }
  },
  {
   "cell_type": "markdown",
   "source": [
    "XOÁ CÁC ẢNH KHÁC VỚI JEPG & PNG"
   ],
   "metadata": {
    "collapsed": false
   }
  },
  {
   "cell_type": "code",
   "execution_count": 3,
   "outputs": [
    {
     "name": "stdout",
     "output_type": "stream",
     "text": [
      "Số lượng ảnh đã xoá:  11\n"
     ]
    }
   ],
   "source": [
    "# Để xoá các ảnh có định dạng ảnh khác JEPG và PNG\n",
    "from PIL import Image\n",
    "import os\n",
    "\n",
    "# Thư mục chứa ảnh\n",
    "image_dir = \"../data/images_crawl\"\n",
    "\n",
    "# Khởi tạo từ điển lưu trữ số lượng ảnh đã xoá\n",
    "image_counts = 0\n",
    "\n",
    "for root, dirs, files in os.walk(image_dir):\n",
    "    for file in files:\n",
    "        img_path = os.path.join(root, file)\n",
    "        img = Image.open(img_path)\n",
    "        fmt = img.format\n",
    "        if fmt != 'JPEG' and fmt != 'PNG':\n",
    "            img.close()  # đóng đối tượng hình ảnh\n",
    "            os.remove(img_path)\n",
    "            image_counts += 1\n",
    "\n",
    "# In ra số lượng ảnh đã xoá\n",
    "print(\"Số lượng ảnh đã xoá: \", image_counts)"
   ],
   "metadata": {
    "collapsed": false,
    "ExecuteTime": {
     "start_time": "2023-04-11T03:16:04.514488Z",
     "end_time": "2023-04-11T03:16:05.295393Z"
    }
   }
  },
  {
   "cell_type": "code",
   "execution_count": null,
   "outputs": [],
   "source": [],
   "metadata": {
    "collapsed": false
   }
  }
 ],
 "metadata": {
  "kernelspec": {
   "display_name": "Python 3",
   "language": "python",
   "name": "python3"
  },
  "language_info": {
   "codemirror_mode": {
    "name": "ipython",
    "version": 2
   },
   "file_extension": ".py",
   "mimetype": "text/x-python",
   "name": "python",
   "nbconvert_exporter": "python",
   "pygments_lexer": "ipython2",
   "version": "2.7.6"
  }
 },
 "nbformat": 4,
 "nbformat_minor": 0
}
