{
 "cells": [
  {
   "cell_type": "code",
   "execution_count": 2,
   "metadata": {
    "collapsed": true,
    "ExecuteTime": {
     "start_time": "2023-04-12T01:07:38.996590Z",
     "end_time": "2023-04-12T01:07:45.012165Z"
    }
   },
   "outputs": [],
   "source": [
    "from src.preprocess.extract_faces import extract_faces, number_label\n",
    "import os\n",
    "import time\n",
    "from tqdm import tqdm\n",
    "from PIL import Image"
   ]
  },
  {
   "cell_type": "markdown",
   "source": [
    "MTCNN"
   ],
   "metadata": {
    "collapsed": false
   }
  },
  {
   "cell_type": "code",
   "execution_count": null,
   "outputs": [],
   "source": [
    "# Thư mục chứa ảnh\n",
    "image_dir = \"../data/images_crawl\"\n",
    "face_dir = \"../data/images_face\"\n",
    "\n",
    "star_time = time.time()\n",
    "# duyệt qua cac thu mục con\n",
    "for folder in tqdm(os.listdir(image_dir), position=0):\n",
    "    label = number_label(folder)\n",
    "    if label > 0:  # tuỳ chỉnh đề tiếp tục khi gặp lỗi giữa chừng\n",
    "        folder_path = os.path.join(image_dir, folder)\n",
    "        face_path = os.path.join(face_dir, folder)\n",
    "        for image in os.listdir(folder_path):\n",
    "            image_path = os.path.join(folder_path, image)\n",
    "            extract_faces(image_path, face_path, image, detector_backend='mtcnn')\n",
    "end_time = time.time()\n",
    "print(\"Đã làm xong! \", \"- Thời gian:\", round(end_time - star_time, 3))"
   ],
   "metadata": {
    "collapsed": false
   }
  },
  {
   "cell_type": "markdown",
   "source": [
    "RESIZE TO 160x160 > FaceNet"
   ],
   "metadata": {
    "collapsed": false
   }
  },
  {
   "cell_type": "code",
   "execution_count": 4,
   "outputs": [
    {
     "name": "stderr",
     "output_type": "stream",
     "text": [
      "100%|██████████| 50/50 [00:04<00:00, 10.18it/s]"
     ]
    },
    {
     "name": "stdout",
     "output_type": "stream",
     "text": [
      "Đã làm xong! \n"
     ]
    },
    {
     "name": "stderr",
     "output_type": "stream",
     "text": [
      "\n"
     ]
    }
   ],
   "source": [
    "# Thư mục chứa ảnh\n",
    "train_dir = \"../data/faces_train_224\"\n",
    "save_dir = \"../data/faces_train_160\"\n",
    "\n",
    "os.makedirs(save_dir, exist_ok=True)\n",
    "\n",
    "# duyệt qua các thư mục con\n",
    "for folder in tqdm(os.listdir(train_dir), position=0):\n",
    "    label = number_label(folder)\n",
    "    if label > 0:  # tuỳ chỉnh đề tiếp tục khi gặp lỗi giữa chừng\n",
    "        folder_path = os.path.join(train_dir, folder)\n",
    "        save_path = os.path.join(save_dir, folder)\n",
    "        os.makedirs(save_path, exist_ok=True)\n",
    "        for image in os.listdir(folder_path):\n",
    "            image_path = os.path.join(folder_path, image)\n",
    "            # Resize ảnh và lưu vào save_path\n",
    "            img = Image.open(image_path)\n",
    "            img = img.resize((160, 160), resample=Image.BILINEAR)\n",
    "            save_image_path = os.path.join(save_path, image)\n",
    "            img.save(save_image_path)\n",
    "\n",
    "print(\"Đã làm xong! \")\n"
   ],
   "metadata": {
    "collapsed": false,
    "ExecuteTime": {
     "start_time": "2023-04-12T01:08:25.515649Z",
     "end_time": "2023-04-12T01:08:30.452326Z"
    }
   }
  },
  {
   "cell_type": "code",
   "execution_count": 5,
   "outputs": [
    {
     "name": "stderr",
     "output_type": "stream",
     "text": [
      "100%|██████████| 50/50 [00:01<00:00, 42.49it/s]"
     ]
    },
    {
     "name": "stdout",
     "output_type": "stream",
     "text": [
      "Đã làm xong! \n"
     ]
    },
    {
     "name": "stderr",
     "output_type": "stream",
     "text": [
      "\n"
     ]
    }
   ],
   "source": [
    "# Thư mục chứa ảnh\n",
    "train_dir = \"../data/faces_test_224\"\n",
    "save_dir = \"../data/faces_test_160\"\n",
    "\n",
    "os.makedirs(save_dir, exist_ok=True)\n",
    "\n",
    "# duyệt qua các thư mục con\n",
    "for folder in tqdm(os.listdir(train_dir), position=0):\n",
    "    label = number_label(folder)\n",
    "    if label > 0:  # tuỳ chỉnh đề tiếp tục khi gặp lỗi giữa chừng\n",
    "        folder_path = os.path.join(train_dir, folder)\n",
    "        save_path = os.path.join(save_dir, folder)\n",
    "        os.makedirs(save_path, exist_ok=True)\n",
    "        for image in os.listdir(folder_path):\n",
    "            image_path = os.path.join(folder_path, image)\n",
    "            # Resize ảnh và lưu vào save_path\n",
    "            img = Image.open(image_path)\n",
    "            img = img.resize((160, 160), resample=Image.BILINEAR)\n",
    "            save_image_path = os.path.join(save_path, image)\n",
    "            img.save(save_image_path)\n",
    "\n",
    "print(\"Đã làm xong! \")\n"
   ],
   "metadata": {
    "collapsed": false,
    "ExecuteTime": {
     "start_time": "2023-04-12T01:09:00.787412Z",
     "end_time": "2023-04-12T01:09:01.984904Z"
    }
   }
  },
  {
   "cell_type": "code",
   "execution_count": null,
   "outputs": [],
   "source": [],
   "metadata": {
    "collapsed": false
   }
  }
 ],
 "metadata": {
  "kernelspec": {
   "display_name": "Python 3",
   "language": "python",
   "name": "python3"
  },
  "language_info": {
   "codemirror_mode": {
    "name": "ipython",
    "version": 2
   },
   "file_extension": ".py",
   "mimetype": "text/x-python",
   "name": "python",
   "nbconvert_exporter": "python",
   "pygments_lexer": "ipython2",
   "version": "2.7.6"
  }
 },
 "nbformat": 4,
 "nbformat_minor": 0
}
