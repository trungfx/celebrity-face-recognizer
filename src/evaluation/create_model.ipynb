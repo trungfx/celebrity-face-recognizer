{
 "cells": [
  {
   "cell_type": "markdown",
   "source": [
    "VGG-Face"
   ],
   "metadata": {
    "collapsed": false
   }
  },
  {
   "cell_type": "code",
   "execution_count": 2,
   "outputs": [
    {
     "name": "stdout",
     "output_type": "stream",
     "text": [
      "x_train: 2104 y_train: 2104\n",
      "x_test: 0 y_test: 0\n",
      "x_train_shape: (2622,)\n",
      "Mô hình đã được lưu tại /data/models/knn_5_cosine_distance_vggface.pkl\n"
     ]
    }
   ],
   "source": [
    "import os\n",
    "import pickle\n",
    "from sklearn.neighbors import KNeighborsClassifier\n",
    "from src.utils.load_data import load_data\n",
    "\n",
    "train_path = \"../../data/embeddings/train_vggface_embeddings.npz\"\n",
    "model_path = \"../../data/models/\"\n",
    "\n",
    "# Tạo thư mục nếu không tồn tại\n",
    "os.makedirs(model_path, exist_ok=True)\n",
    "\n",
    "# Load dữ liệu\n",
    "x_train, y_train, _, _ = load_data(train_path=train_path)\n",
    "\n",
    "# Xây dựng mô hình\n",
    "model = KNeighborsClassifier(n_neighbors=5, metric=\"cosine\", weights='distance')\n",
    "model.fit(x_train, y_train)\n",
    "\n",
    "# Đặt tên file theo mô hình, metric và n_neighbors\n",
    "model_name = \"knn_5_cosine_distance_vggface.pkl\"\n",
    "\n",
    "# Lưu mô hình\n",
    "with open(f\"../data/models/{model_name}\", 'wb') as f:\n",
    "    pickle.dump(model, f)\n",
    "\n",
    "print(f\"Mô hình đã được lưu tại /data/models/{model_name}\")"
   ],
   "metadata": {
    "collapsed": false,
    "ExecuteTime": {
     "start_time": "2023-04-12T18:35:47.679170Z",
     "end_time": "2023-04-12T18:35:47.944890Z"
    }
   }
  },
  {
   "cell_type": "code",
   "execution_count": null,
   "outputs": [],
   "source": [],
   "metadata": {
    "collapsed": false
   }
  }
 ],
 "metadata": {
  "kernelspec": {
   "display_name": "Python 3",
   "language": "python",
   "name": "python3"
  },
  "language_info": {
   "codemirror_mode": {
    "name": "ipython",
    "version": 2
   },
   "file_extension": ".py",
   "mimetype": "text/x-python",
   "name": "python",
   "nbconvert_exporter": "python",
   "pygments_lexer": "ipython2",
   "version": "2.7.6"
  }
 },
 "nbformat": 4,
 "nbformat_minor": 0
}
